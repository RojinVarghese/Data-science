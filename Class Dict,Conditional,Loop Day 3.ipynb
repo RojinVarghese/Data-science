{
 "cells": [
  {
   "cell_type": "markdown",
   "id": "6adbd68d-b145-43e6-865b-f48b2dcd677b",
   "metadata": {},
   "source": [
    "Dictionary Function \n",
    "\n",
    "Dictionaries are used to store data values in key:value pairs. A dictionary is a collection which is ordered*, changeable and do not allow duplicates."
   ]
  },
  {
   "cell_type": "code",
   "execution_count": 1,
   "id": "2b146e1f-6a0d-4484-9977-dcd23cb1b51a",
   "metadata": {},
   "outputs": [],
   "source": [
    "d={}"
   ]
  },
  {
   "cell_type": "code",
   "execution_count": 2,
   "id": "934dadb4-8047-4dc2-9833-24cd32b39b24",
   "metadata": {},
   "outputs": [
    {
     "data": {
      "text/plain": [
       "dict"
      ]
     },
     "execution_count": 2,
     "metadata": {},
     "output_type": "execute_result"
    }
   ],
   "source": [
    "type(d)"
   ]
  },
  {
   "cell_type": "code",
   "execution_count": 3,
   "id": "b0c78187-42b7-4347-b800-f630478cbf2f",
   "metadata": {},
   "outputs": [],
   "source": [
    "d1={'key' :\" Rojin \"}"
   ]
  },
  {
   "cell_type": "code",
   "execution_count": 4,
   "id": "2c472556-2c1a-4e45-9278-762fb1d27568",
   "metadata": {},
   "outputs": [
    {
     "data": {
      "text/plain": [
       "{'key': ' Rojin '}"
      ]
     },
     "execution_count": 4,
     "metadata": {},
     "output_type": "execute_result"
    }
   ],
   "source": [
    "d1"
   ]
  },
  {
   "cell_type": "code",
   "execution_count": 6,
   "id": "88aa37cb-5f20-4199-82bb-f4b2f34558af",
   "metadata": {},
   "outputs": [],
   "source": [
    "d2={'Name' : ' Rojin','Email': \"Rojin@gmail.com\" ,\" Number \" : 56489756 }"
   ]
  },
  {
   "cell_type": "code",
   "execution_count": 7,
   "id": "3f72740a-c1dd-4f6c-8aff-ca6082fb9b0a",
   "metadata": {},
   "outputs": [
    {
     "data": {
      "text/plain": [
       "{'Name': ' Rojin', 'Email': 'Rojin@gmail.com', ' Number ': 56489756}"
      ]
     },
     "execution_count": 7,
     "metadata": {},
     "output_type": "execute_result"
    }
   ],
   "source": [
    "d2"
   ]
  },
  {
   "cell_type": "code",
   "execution_count": 8,
   "id": "dce80b2a-c789-4cdd-a678-87d4fbfaef6c",
   "metadata": {},
   "outputs": [
    {
     "ename": "SyntaxError",
     "evalue": "invalid syntax (977020017.py, line 1)",
     "output_type": "error",
     "traceback": [
      "\u001b[0;36m  Cell \u001b[0;32mIn[8], line 1\u001b[0;36m\u001b[0m\n\u001b[0;31m    d3={2345:\" Rojin\",@wer : \"Varghese\"}\u001b[0m\n\u001b[0m                      ^\u001b[0m\n\u001b[0;31mSyntaxError\u001b[0m\u001b[0;31m:\u001b[0m invalid syntax\n"
     ]
    }
   ],
   "source": [
    "d3={2345:\" Rojin\",@wer : \"Varghese\"}"
   ]
  },
  {
   "cell_type": "code",
   "execution_count": 9,
   "id": "14de1b85-2d3b-422c-b757-eab3d8e1caa1",
   "metadata": {},
   "outputs": [],
   "source": [
    "#Pointer showing that special case character we cant use in Dictionary "
   ]
  },
  {
   "cell_type": "code",
   "execution_count": 11,
   "id": "bd146243-582a-4d33-bf4c-19840d84a84e",
   "metadata": {},
   "outputs": [],
   "source": [
    "d3 ={2345:\" Rojin\" ,'@wer' : \"Varghese\"}"
   ]
  },
  {
   "cell_type": "code",
   "execution_count": 12,
   "id": "0f11fb65-505c-4f6a-bab3-763ae505ab18",
   "metadata": {},
   "outputs": [
    {
     "data": {
      "text/plain": [
       "{2345: ' Rojin', '@wer': 'Varghese'}"
      ]
     },
     "execution_count": 12,
     "metadata": {},
     "output_type": "execute_result"
    }
   ],
   "source": [
    "d3"
   ]
  },
  {
   "cell_type": "code",
   "execution_count": 14,
   "id": "bf9bd8f6-1ec4-4eda-8c86-3e8bcf8823ee",
   "metadata": {},
   "outputs": [],
   "source": [
    "d4={2345:\" Rojin\" ,'@wer' : \"Varghese\", True : 23456 }"
   ]
  },
  {
   "cell_type": "code",
   "execution_count": 15,
   "id": "42a788f9-14f4-4aca-9f26-5f5d8ab9a4da",
   "metadata": {},
   "outputs": [
    {
     "data": {
      "text/plain": [
       "{2345: ' Rojin', '@wer': 'Varghese', True: 23456}"
      ]
     },
     "execution_count": 15,
     "metadata": {},
     "output_type": "execute_result"
    }
   ],
   "source": [
    "d4"
   ]
  },
  {
   "cell_type": "code",
   "execution_count": 16,
   "id": "c31bad4b-548c-4b86-be20-f51c328113e7",
   "metadata": {},
   "outputs": [],
   "source": [
    "# Boolean also working in dictionary"
   ]
  },
  {
   "cell_type": "markdown",
   "id": "c1c764f0-9156-4ad6-a82a-c48b2d35a227",
   "metadata": {},
   "source": [
    "Find Key Value "
   ]
  },
  {
   "cell_type": "code",
   "execution_count": 17,
   "id": "bd00de14-112e-4577-a31f-412f0b66e6b1",
   "metadata": {},
   "outputs": [
    {
     "data": {
      "text/plain": [
       "{2345: ' Rojin', '@wer': 'Varghese', True: 23456}"
      ]
     },
     "execution_count": 17,
     "metadata": {},
     "output_type": "execute_result"
    }
   ],
   "source": [
    "d4"
   ]
  },
  {
   "cell_type": "code",
   "execution_count": 18,
   "id": "b5b67134-f10a-421e-9e4a-4c7e2c9c58a7",
   "metadata": {},
   "outputs": [
    {
     "data": {
      "text/plain": [
       "' Rojin'"
      ]
     },
     "execution_count": 18,
     "metadata": {},
     "output_type": "execute_result"
    }
   ],
   "source": [
    "d4[2345]"
   ]
  },
  {
   "cell_type": "code",
   "execution_count": 19,
   "id": "f44addc6-4388-463c-bd36-ea23e3b45e4d",
   "metadata": {},
   "outputs": [
    {
     "data": {
      "text/plain": [
       "23456"
      ]
     },
     "execution_count": 19,
     "metadata": {},
     "output_type": "execute_result"
    }
   ],
   "source": [
    "d4[True]"
   ]
  },
  {
   "cell_type": "code",
   "execution_count": 20,
   "id": "5f30fc37-284b-4154-9d04-e726087c453f",
   "metadata": {},
   "outputs": [
    {
     "ename": "SyntaxError",
     "evalue": "invalid syntax (291171310.py, line 1)",
     "output_type": "error",
     "traceback": [
      "\u001b[0;36m  Cell \u001b[0;32mIn[20], line 1\u001b[0;36m\u001b[0m\n\u001b[0;31m    d4[@wer]\u001b[0m\n\u001b[0m       ^\u001b[0m\n\u001b[0;31mSyntaxError\u001b[0m\u001b[0;31m:\u001b[0m invalid syntax\n"
     ]
    }
   ],
   "source": [
    "d4[@wer]"
   ]
  },
  {
   "cell_type": "code",
   "execution_count": 21,
   "id": "c3de40d0-7022-47ec-b983-aea1a46e48c1",
   "metadata": {},
   "outputs": [
    {
     "data": {
      "text/plain": [
       "'Varghese'"
      ]
     },
     "execution_count": 21,
     "metadata": {},
     "output_type": "execute_result"
    }
   ],
   "source": [
    "d4['@wer']"
   ]
  },
  {
   "cell_type": "code",
   "execution_count": 22,
   "id": "f28b37c7-34ab-4cdd-8af0-895e70a356b4",
   "metadata": {},
   "outputs": [],
   "source": [
    "d5={'Name': \"Rojin\", 'Mail id': 'Rojin@gmail.com',\"Name\": \"Varghese\"}"
   ]
  },
  {
   "cell_type": "code",
   "execution_count": 23,
   "id": "9ea146ec-cf99-430a-87eb-55f52a5d3f92",
   "metadata": {},
   "outputs": [
    {
     "data": {
      "text/plain": [
       "'Varghese'"
      ]
     },
     "execution_count": 23,
     "metadata": {},
     "output_type": "execute_result"
    }
   ],
   "source": [
    "d5['Name']"
   ]
  },
  {
   "cell_type": "code",
   "execution_count": 24,
   "id": "dddedb25-61d3-4af1-ad60-c45cee673ba6",
   "metadata": {},
   "outputs": [],
   "source": [
    "# here Name key  are 2 in the list but took 2nd Name key because if there mutiple name key available it will take last Name key only ."
   ]
  },
  {
   "cell_type": "code",
   "execution_count": 25,
   "id": "42483919-f6b8-48f5-a4db-dab35b44df34",
   "metadata": {},
   "outputs": [],
   "source": [
    "d6={\" Company \" : \"Pwskills\",\"Course\": [\"Web developer\",\"Data Science\",\"java\"]}"
   ]
  },
  {
   "cell_type": "code",
   "execution_count": 26,
   "id": "647884f1-2dfb-4603-bb77-0ede7a4d911e",
   "metadata": {},
   "outputs": [
    {
     "data": {
      "text/plain": [
       "{' Company ': 'Pwskills', 'Course': ['Web developer', 'Data Science', 'java']}"
      ]
     },
     "execution_count": 26,
     "metadata": {},
     "output_type": "execute_result"
    }
   ],
   "source": [
    "d6"
   ]
  },
  {
   "cell_type": "code",
   "execution_count": 27,
   "id": "36718ea2-4428-4be5-b97e-f4e0e844a2ea",
   "metadata": {},
   "outputs": [
    {
     "data": {
      "text/plain": [
       "dict"
      ]
     },
     "execution_count": 27,
     "metadata": {},
     "output_type": "execute_result"
    }
   ],
   "source": [
    "type(d6)"
   ]
  },
  {
   "cell_type": "code",
   "execution_count": 28,
   "id": "5a51cf5f-1f57-436a-872d-968179c3abb7",
   "metadata": {},
   "outputs": [
    {
     "data": {
      "text/plain": [
       "['Web developer', 'Data Science', 'java']"
      ]
     },
     "execution_count": 28,
     "metadata": {},
     "output_type": "execute_result"
    }
   ],
   "source": [
    "d6['Course']"
   ]
  },
  {
   "cell_type": "code",
   "execution_count": 29,
   "id": "70b59caa-c76f-4773-9368-cb76275793b1",
   "metadata": {},
   "outputs": [
    {
     "data": {
      "text/plain": [
       "'java'"
      ]
     },
     "execution_count": 29,
     "metadata": {},
     "output_type": "execute_result"
    }
   ],
   "source": [
    "d6['Course'][2]"
   ]
  },
  {
   "cell_type": "code",
   "execution_count": 35,
   "id": "ede3969d-627f-4c48-91f2-f9a77d2cfe1b",
   "metadata": {},
   "outputs": [],
   "source": [
    "d7={\"Number\": [2,32,56,6], \"Assignmant\": (2,3,4,5,6), \"Launch Date \":{28,4,16},\"Class Time\": {\"Web developer\": 8,' Data science': 8, \"Java\": 10 }}"
   ]
  },
  {
   "cell_type": "code",
   "execution_count": 36,
   "id": "09568758-2b32-424c-8908-0264676655c0",
   "metadata": {},
   "outputs": [
    {
     "data": {
      "text/plain": [
       "{'Number': [2, 32, 56, 6],\n",
       " 'Assignmant': (2, 3, 4, 5, 6),\n",
       " 'Launch Date ': {4, 16, 28},\n",
       " 'Class Time': {'Web developer': 8, ' Data science': 8, 'Java': 10}}"
      ]
     },
     "execution_count": 36,
     "metadata": {},
     "output_type": "execute_result"
    }
   ],
   "source": [
    "d7"
   ]
  },
  {
   "cell_type": "code",
   "execution_count": 37,
   "id": "998f243d-b8ea-462f-8e1a-b22b22e7e4ec",
   "metadata": {},
   "outputs": [],
   "source": [
    "# Key : Value "
   ]
  },
  {
   "cell_type": "code",
   "execution_count": 39,
   "id": "96ceb0fa-1651-4af8-a8dd-d77ec15bcd9a",
   "metadata": {},
   "outputs": [
    {
     "data": {
      "text/plain": [
       "10"
      ]
     },
     "execution_count": 39,
     "metadata": {},
     "output_type": "execute_result"
    }
   ],
   "source": [
    "d7['Class Time']['Java']"
   ]
  },
  {
   "cell_type": "code",
   "execution_count": 45,
   "id": "6dab0ea0-28bf-49d5-8014-58fb23b02212",
   "metadata": {},
   "outputs": [
    {
     "data": {
      "text/plain": [
       "[2, 32, 56, 6]"
      ]
     },
     "execution_count": 45,
     "metadata": {},
     "output_type": "execute_result"
    }
   ],
   "source": [
    "d7 [\"Number\"]"
   ]
  },
  {
   "cell_type": "code",
   "execution_count": 46,
   "id": "ebac6eb5-f819-4941-adb2-b31b9173bc7d",
   "metadata": {},
   "outputs": [
    {
     "data": {
      "text/plain": [
       "56"
      ]
     },
     "execution_count": 46,
     "metadata": {},
     "output_type": "execute_result"
    }
   ],
   "source": [
    "d7[\"Number\"][2]"
   ]
  },
  {
   "cell_type": "markdown",
   "id": "5a89fd97-c8b8-4bdf-ab97-2dfa9f281e60",
   "metadata": {},
   "source": [
    "Add key in D7 Dictionary"
   ]
  },
  {
   "cell_type": "code",
   "execution_count": 47,
   "id": "29b33a05-f153-4121-95fc-653306c6e4d5",
   "metadata": {},
   "outputs": [],
   "source": [
    "d7 ['Mentor']= ['Sudhashu','Krish','Anurag','Hayder']"
   ]
  },
  {
   "cell_type": "code",
   "execution_count": 48,
   "id": "1a53ebde-8a12-491b-bb4a-4a31e3f9d203",
   "metadata": {},
   "outputs": [
    {
     "data": {
      "text/plain": [
       "{'Number': [2, 32, 56, 6],\n",
       " 'Assignmant': (2, 3, 4, 5, 6),\n",
       " 'Launch Date ': {4, 16, 28},\n",
       " 'Class Time': {'Web developer': 8, ' Data science': 8, 'Java': 10},\n",
       " 'Mentor': ['Sudhashu', 'Krish', 'Anurag', 'Hayder']}"
      ]
     },
     "execution_count": 48,
     "metadata": {},
     "output_type": "execute_result"
    }
   ],
   "source": [
    "d7"
   ]
  },
  {
   "cell_type": "markdown",
   "id": "0c2292a6-efb3-4c10-aab5-78df3f8fa8c4",
   "metadata": {},
   "source": [
    "Delecting Keys from Dictionary "
   ]
  },
  {
   "cell_type": "code",
   "execution_count": 49,
   "id": "a1cb0ea1-fdfc-4cba-8dba-ed49801cb19c",
   "metadata": {},
   "outputs": [
    {
     "data": {
      "text/plain": [
       "{'Number': [2, 32, 56, 6],\n",
       " 'Assignmant': (2, 3, 4, 5, 6),\n",
       " 'Launch Date ': {4, 16, 28},\n",
       " 'Class Time': {'Web developer': 8, ' Data science': 8, 'Java': 10},\n",
       " 'Mentor': ['Sudhashu', 'Krish', 'Anurag', 'Hayder']}"
      ]
     },
     "execution_count": 49,
     "metadata": {},
     "output_type": "execute_result"
    }
   ],
   "source": [
    "d7"
   ]
  },
  {
   "cell_type": "code",
   "execution_count": 50,
   "id": "d2ff01fb-ac61-414d-a3a2-327492dad816",
   "metadata": {},
   "outputs": [],
   "source": [
    "del d7['Number']"
   ]
  },
  {
   "cell_type": "code",
   "execution_count": 51,
   "id": "6fffb4e5-eaea-4daa-8c1f-b32f05ee2fd1",
   "metadata": {},
   "outputs": [
    {
     "data": {
      "text/plain": [
       "{'Assignmant': (2, 3, 4, 5, 6),\n",
       " 'Launch Date ': {4, 16, 28},\n",
       " 'Class Time': {'Web developer': 8, ' Data science': 8, 'Java': 10},\n",
       " 'Mentor': ['Sudhashu', 'Krish', 'Anurag', 'Hayder']}"
      ]
     },
     "execution_count": 51,
     "metadata": {},
     "output_type": "execute_result"
    }
   ],
   "source": [
    "d7"
   ]
  },
  {
   "cell_type": "markdown",
   "id": "ab523454-f75b-48ad-b301-e2ac64bdd55e",
   "metadata": {},
   "source": [
    "Finding List of the Keys in Dictionary "
   ]
  },
  {
   "cell_type": "code",
   "execution_count": 54,
   "id": "69309bac-110e-4611-b93d-0e98320cccd3",
   "metadata": {},
   "outputs": [
    {
     "data": {
      "text/plain": [
       "['Assignmant', 'Launch Date ', 'Class Time', 'Mentor']"
      ]
     },
     "execution_count": 54,
     "metadata": {},
     "output_type": "execute_result"
    }
   ],
   "source": [
    "list(d7.keys())"
   ]
  },
  {
   "cell_type": "markdown",
   "id": "2551a5d5-5c57-4aeb-9bf6-00b7d97a2ccc",
   "metadata": {},
   "source": [
    "Finding List of the Values in Dictionary"
   ]
  },
  {
   "cell_type": "code",
   "execution_count": 55,
   "id": "247861bf-33c6-4b65-b281-20e11127de7b",
   "metadata": {},
   "outputs": [
    {
     "data": {
      "text/plain": [
       "[(2, 3, 4, 5, 6),\n",
       " {4, 16, 28},\n",
       " {'Web developer': 8, ' Data science': 8, 'Java': 10},\n",
       " ['Sudhashu', 'Krish', 'Anurag', 'Hayder']]"
      ]
     },
     "execution_count": 55,
     "metadata": {},
     "output_type": "execute_result"
    }
   ],
   "source": [
    "list(d7.values())"
   ]
  },
  {
   "cell_type": "markdown",
   "id": "42218094-3112-4dc1-abf5-09b6e3ff7df1",
   "metadata": {},
   "source": [
    "Finding the Pair of Keys and Values both in Dictionary"
   ]
  },
  {
   "cell_type": "code",
   "execution_count": 56,
   "id": "a15e9e59-4a39-4fc7-88eb-dcd7a3bf8931",
   "metadata": {},
   "outputs": [
    {
     "data": {
      "text/plain": [
       "[('Assignmant', (2, 3, 4, 5, 6)),\n",
       " ('Launch Date ', {4, 16, 28}),\n",
       " ('Class Time', {'Web developer': 8, ' Data science': 8, 'Java': 10}),\n",
       " ('Mentor', ['Sudhashu', 'Krish', 'Anurag', 'Hayder'])]"
      ]
     },
     "execution_count": 56,
     "metadata": {},
     "output_type": "execute_result"
    }
   ],
   "source": [
    "list (d7.items())"
   ]
  },
  {
   "cell_type": "code",
   "execution_count": 59,
   "id": "ce98e2f7-8399-4ec0-9568-066073ed5d4b",
   "metadata": {},
   "outputs": [
    {
     "data": {
      "text/plain": [
       "{'Assignmant': (2, 3, 4, 5, 6),\n",
       " 'Launch Date ': {4, 16, 28},\n",
       " 'Class Time': {'Web developer': 8, ' Data science': 8, 'Java': 10},\n",
       " 'Mentor': ['Sudhashu', 'Krish', 'Anurag', 'Hayder']}"
      ]
     },
     "execution_count": 59,
     "metadata": {},
     "output_type": "execute_result"
    }
   ],
   "source": [
    "d7"
   ]
  },
  {
   "cell_type": "markdown",
   "id": "bdee713e-9bd3-4afb-ae1c-6cba33d688c9",
   "metadata": {},
   "source": [
    "POP Use for Delecting from Dictionary"
   ]
  },
  {
   "cell_type": "code",
   "execution_count": 60,
   "id": "682a849f-ff87-4ebf-a9c7-01c471e79167",
   "metadata": {},
   "outputs": [
    {
     "data": {
      "text/plain": [
       "{'Assignmant': (2, 3, 4, 5, 6),\n",
       " 'Launch Date ': {4, 16, 28},\n",
       " 'Class Time': {'Web developer': 8, ' Data science': 8, 'Java': 10},\n",
       " 'Mentor': ['Sudhashu', 'Krish', 'Anurag', 'Hayder']}"
      ]
     },
     "execution_count": 60,
     "metadata": {},
     "output_type": "execute_result"
    }
   ],
   "source": [
    "d7"
   ]
  },
  {
   "cell_type": "code",
   "execution_count": 61,
   "id": "c72ce5bf-c752-4232-95fc-891eb88019e3",
   "metadata": {},
   "outputs": [
    {
     "data": {
      "text/plain": [
       "(2, 3, 4, 5, 6)"
      ]
     },
     "execution_count": 61,
     "metadata": {},
     "output_type": "execute_result"
    }
   ],
   "source": [
    "d7.pop('Assignmant')"
   ]
  },
  {
   "cell_type": "code",
   "execution_count": 62,
   "id": "fc9c9d5c-7c7d-47ec-85c9-38d21552b432",
   "metadata": {},
   "outputs": [
    {
     "data": {
      "text/plain": [
       "{'Launch Date ': {4, 16, 28},\n",
       " 'Class Time': {'Web developer': 8, ' Data science': 8, 'Java': 10},\n",
       " 'Mentor': ['Sudhashu', 'Krish', 'Anurag', 'Hayder']}"
      ]
     },
     "execution_count": 62,
     "metadata": {},
     "output_type": "execute_result"
    }
   ],
   "source": [
    "d7"
   ]
  },
  {
   "cell_type": "markdown",
   "id": "927a37c3-7b36-47b9-94fe-10fc58a8e934",
   "metadata": {},
   "source": [
    "Control Flow Statements"
   ]
  },
  {
   "cell_type": "code",
   "execution_count": 6,
   "id": "84ef7649-2faa-49ed-8bae-262888d0e998",
   "metadata": {},
   "outputs": [
    {
     "name": "stdout",
     "output_type": "stream",
     "text": [
      "You will be a part of A3 Batch\n"
     ]
    }
   ],
   "source": [
    "marks = 2\n",
    "if marks >= 80: \n",
    "    print (\"You will be a part of A0 Batch\")\n",
    "elif marks >= 60 and marks <80:\n",
    "    print (\"You will be a part of A1 Batch\")\n",
    "elif marks >= 40 and marks <60 :\n",
    "    print (\"You will be a part of A2 Batch\")\n",
    "else :\n",
    "    print (\"You will be a part of A3 Batch\")\n"
   ]
  },
  {
   "cell_type": "code",
   "execution_count": 7,
   "id": "8491b529-48d7-435e-8796-80218b4831fe",
   "metadata": {},
   "outputs": [
    {
     "data": {
      "text/plain": [
       "False"
      ]
     },
     "execution_count": 7,
     "metadata": {},
     "output_type": "execute_result"
    }
   ],
   "source": [
    "10>= 80"
   ]
  },
  {
   "cell_type": "code",
   "execution_count": 8,
   "id": "1f598a4d-476a-4ff7-bb01-fff69c8b1a34",
   "metadata": {},
   "outputs": [
    {
     "data": {
      "text/plain": [
       "False"
      ]
     },
     "execution_count": 8,
     "metadata": {},
     "output_type": "execute_result"
    }
   ],
   "source": [
    "90 <=80"
   ]
  },
  {
   "cell_type": "code",
   "execution_count": 9,
   "id": "d7e96ef8-1a90-43c9-803e-24fd76351eef",
   "metadata": {},
   "outputs": [
    {
     "data": {
      "text/plain": [
       "True"
      ]
     },
     "execution_count": 9,
     "metadata": {},
     "output_type": "execute_result"
    }
   ],
   "source": [
    "98>= 80"
   ]
  },
  {
   "cell_type": "code",
   "execution_count": 12,
   "id": "43269357-b19b-4ee9-9808-8877ab41b83b",
   "metadata": {},
   "outputs": [
    {
     "name": "stdin",
     "output_type": "stream",
     "text": [
      "Enter your Marks 58\n"
     ]
    },
    {
     "name": "stdout",
     "output_type": "stream",
     "text": [
      "You will be a part of A2 Batch\n"
     ]
    }
   ],
   "source": [
    "marks = int (input(\"Enter your Marks\"))   # interger \n",
    "if marks >= 80: \n",
    "    print (\"You will be a part of A0 Batch\")\n",
    "elif marks >= 60 and marks <80:\n",
    "    print (\"You will be a part of A1 Batch\")\n",
    "elif marks >= 40 and marks <60 :\n",
    "    print (\"You will be a part of A2 Batch\")\n",
    "else :\n",
    "    print (\"You will be a part of A3 Batch\")"
   ]
  },
  {
   "cell_type": "code",
   "execution_count": 14,
   "id": "f9604bf0-b758-4af1-8728-94ce1aebab13",
   "metadata": {},
   "outputs": [
    {
     "name": "stdin",
     "output_type": "stream",
     "text": [
      "Enter your Marks 75.5\n"
     ]
    },
    {
     "name": "stdout",
     "output_type": "stream",
     "text": [
      "You will be a part of A1 Batch\n"
     ]
    }
   ],
   "source": [
    "marks = float (input(\"Enter your Marks\"))   # Floating \n",
    "if marks >= 80: \n",
    "    print (\"You will be a part of A0 Batch\")\n",
    "elif marks >= 60 and marks <80: \n",
    "    print (\"You will be a part of A1 Batch\")\n",
    "elif marks >= 40 and marks <60 :\n",
    "    print (\"You will be a part of A2 Batch\")\n",
    "else :\n",
    "    print (\"You will be a part of A3 Batch\")"
   ]
  },
  {
   "cell_type": "code",
   "execution_count": 17,
   "id": "e89ae5d8-07cc-4b0e-88b6-8989aab1f342",
   "metadata": {},
   "outputs": [
    {
     "data": {
      "text/plain": [
       "float"
      ]
     },
     "execution_count": 17,
     "metadata": {},
     "output_type": "execute_result"
    }
   ],
   "source": [
    "type(marks)"
   ]
  },
  {
   "cell_type": "code",
   "execution_count": 20,
   "id": "85b64d12-c32b-488f-b20c-0f8e55eeb669",
   "metadata": {},
   "outputs": [
    {
     "name": "stdin",
     "output_type": "stream",
     "text": [
      "Enter price 200\n"
     ]
    },
    {
     "name": "stdout",
     "output_type": "stream",
     "text": [
      "I will purchase\n"
     ]
    }
   ],
   "source": [
    " price = int (input (\"Enter price\"))\n",
    "if price  > 1000 :\n",
    "        print : (\"I will not purchase\")\n",
    "else : \n",
    "    print (\"I will purchase\")"
   ]
  },
  {
   "cell_type": "code",
   "execution_count": 21,
   "id": "c6c374c9-04e9-412b-90f0-d91b4234e7d3",
   "metadata": {},
   "outputs": [
    {
     "data": {
      "text/plain": [
       "int"
      ]
     },
     "execution_count": 21,
     "metadata": {},
     "output_type": "execute_result"
    }
   ],
   "source": [
    "type (price)"
   ]
  },
  {
   "cell_type": "code",
   "execution_count": 22,
   "id": "d4b2abd1-2909-4919-9331-d199db47f902",
   "metadata": {},
   "outputs": [
    {
     "name": "stdin",
     "output_type": "stream",
     "text": [
      "Enter price 7000\n"
     ]
    },
    {
     "name": "stdout",
     "output_type": "stream",
     "text": [
      "This is too Much\n"
     ]
    }
   ],
   "source": [
    " price = int (input (\"Enter price\"))\n",
    "if price  > 1000 :\n",
    "        print : (\"I will not purchase\")\n",
    "if price > 5000: \n",
    "    print (\"This is too Much\")"
   ]
  },
  {
   "cell_type": "code",
   "execution_count": 23,
   "id": "d8e7aea6-7563-416f-8ccc-d22c293a2120",
   "metadata": {},
   "outputs": [
    {
     "name": "stdin",
     "output_type": "stream",
     "text": [
      "Enter price 800\n"
     ]
    },
    {
     "name": "stdout",
     "output_type": "stream",
     "text": [
      "i will purchase\n"
     ]
    }
   ],
   "source": [
    " price = int (input (\"Enter price\"))\n",
    "if price  > 1000 :\n",
    "        print : (\"I will not purchase\")\n",
    "if price > 5000: \n",
    "    print (\"This is too Much\")\n",
    "elif price <1000: \n",
    "    print (\"i will purchase\") "
   ]
  },
  {
   "cell_type": "markdown",
   "id": "8201b95a-b18c-47a0-a09b-2bc2d45292a7",
   "metadata": {},
   "source": [
    "LOOP Functions "
   ]
  },
  {
   "cell_type": "code",
   "execution_count": 24,
   "id": "51c8e1f6-363c-472b-bd8c-9c1a53803609",
   "metadata": {},
   "outputs": [],
   "source": [
    "l =[1,2,3,4,5,6,7,8]"
   ]
  },
  {
   "cell_type": "code",
   "execution_count": 25,
   "id": "32d13e32-85ac-4af0-b8b8-b5bb489dc0d6",
   "metadata": {},
   "outputs": [
    {
     "data": {
      "text/plain": [
       "[1, 2, 3, 4, 5, 6, 7, 8]"
      ]
     },
     "execution_count": 25,
     "metadata": {},
     "output_type": "execute_result"
    }
   ],
   "source": [
    "l"
   ]
  },
  {
   "cell_type": "code",
   "execution_count": 27,
   "id": "7dc19457-2bb1-43aa-9bc3-5587879ad061",
   "metadata": {},
   "outputs": [
    {
     "data": {
      "text/plain": [
       "2"
      ]
     },
     "execution_count": 27,
     "metadata": {},
     "output_type": "execute_result"
    }
   ],
   "source": [
    "l[0]+1"
   ]
  },
  {
   "cell_type": "code",
   "execution_count": 28,
   "id": "0fab9522-c4cf-4aa6-9c1d-472791ddd1c2",
   "metadata": {},
   "outputs": [],
   "source": [
    "l1=[]"
   ]
  },
  {
   "cell_type": "code",
   "execution_count": 29,
   "id": "14f5fe5c-af92-45b1-9015-6631d9330ad3",
   "metadata": {},
   "outputs": [
    {
     "data": {
      "text/plain": [
       "[]"
      ]
     },
     "execution_count": 29,
     "metadata": {},
     "output_type": "execute_result"
    }
   ],
   "source": [
    "l1"
   ]
  },
  {
   "cell_type": "code",
   "execution_count": 30,
   "id": "6f364f67-a0cc-470b-8e6a-136bebf6a1e5",
   "metadata": {},
   "outputs": [],
   "source": [
    "l1.append(l[0]+1)"
   ]
  },
  {
   "cell_type": "code",
   "execution_count": 31,
   "id": "3e126346-15b3-4020-9d5a-a980cdb55259",
   "metadata": {},
   "outputs": [
    {
     "data": {
      "text/plain": [
       "[2]"
      ]
     },
     "execution_count": 31,
     "metadata": {},
     "output_type": "execute_result"
    }
   ],
   "source": [
    "l1"
   ]
  },
  {
   "cell_type": "code",
   "execution_count": 32,
   "id": "7faa2c8c-c8b8-41cb-b8de-8c9658058f3d",
   "metadata": {},
   "outputs": [],
   "source": [
    "# here what we are going we are adding l list into l2 adding with 1"
   ]
  },
  {
   "cell_type": "code",
   "execution_count": 33,
   "id": "5e65503c-8fda-4c65-85f5-160347c3afb7",
   "metadata": {},
   "outputs": [
    {
     "data": {
      "text/plain": [
       "[1, 2, 3, 4, 5, 6, 7, 8]"
      ]
     },
     "execution_count": 33,
     "metadata": {},
     "output_type": "execute_result"
    }
   ],
   "source": [
    "l"
   ]
  },
  {
   "cell_type": "code",
   "execution_count": 34,
   "id": "63aca1f2-02e2-488f-818d-33c6c2f63f4c",
   "metadata": {},
   "outputs": [
    {
     "data": {
      "text/plain": [
       "[2]"
      ]
     },
     "execution_count": 34,
     "metadata": {},
     "output_type": "execute_result"
    }
   ],
   "source": [
    "l1"
   ]
  },
  {
   "cell_type": "code",
   "execution_count": 35,
   "id": "9ad32b70-0e8b-4e70-bfec-74fd79b9e12f",
   "metadata": {},
   "outputs": [
    {
     "name": "stdout",
     "output_type": "stream",
     "text": [
      "1\n",
      "2\n",
      "3\n",
      "4\n",
      "5\n",
      "6\n",
      "7\n",
      "8\n"
     ]
    }
   ],
   "source": [
    "for i in l:   ### command\n",
    "    print (i)"
   ]
  },
  {
   "cell_type": "code",
   "execution_count": 36,
   "id": "a47f0263-9e53-46f8-ae81-3327986c7a8a",
   "metadata": {},
   "outputs": [
    {
     "data": {
      "text/plain": [
       "[1, 2, 3, 4, 5, 6, 7, 8]"
      ]
     },
     "execution_count": 36,
     "metadata": {},
     "output_type": "execute_result"
    }
   ],
   "source": [
    "l"
   ]
  },
  {
   "cell_type": "code",
   "execution_count": 37,
   "id": "642ee37b-c1fa-434e-a366-76111aeb7c50",
   "metadata": {},
   "outputs": [
    {
     "name": "stdout",
     "output_type": "stream",
     "text": [
      "2\n",
      "3\n",
      "4\n",
      "5\n",
      "6\n",
      "7\n",
      "8\n",
      "9\n"
     ]
    }
   ],
   "source": [
    "for i in l:   ### command\n",
    "    print (i+1)"
   ]
  },
  {
   "cell_type": "code",
   "execution_count": 38,
   "id": "e0ef7a87-5530-4f54-acda-3770de1ed4a5",
   "metadata": {},
   "outputs": [
    {
     "data": {
      "text/plain": [
       "[1, 2, 3, 4, 5, 6, 7, 8]"
      ]
     },
     "execution_count": 38,
     "metadata": {},
     "output_type": "execute_result"
    }
   ],
   "source": [
    "l"
   ]
  },
  {
   "cell_type": "code",
   "execution_count": 39,
   "id": "23f589ff-9d33-463e-855f-7ff0bbfdbbb5",
   "metadata": {},
   "outputs": [
    {
     "data": {
      "text/plain": [
       "[2]"
      ]
     },
     "execution_count": 39,
     "metadata": {},
     "output_type": "execute_result"
    }
   ],
   "source": [
    "l1"
   ]
  },
  {
   "cell_type": "code",
   "execution_count": 40,
   "id": "b8247bc2-2021-46f8-9e6b-7eb0606546d7",
   "metadata": {},
   "outputs": [
    {
     "name": "stdout",
     "output_type": "stream",
     "text": [
      "2\n",
      "3\n",
      "4\n",
      "5\n",
      "6\n",
      "7\n",
      "8\n",
      "9\n"
     ]
    }
   ],
   "source": [
    "l1=[]\n",
    "for i in l:\n",
    "    print(i+1)"
   ]
  },
  {
   "cell_type": "code",
   "execution_count": 41,
   "id": "c4aa9a79-c46a-4e05-83d8-8597c5f8bfd9",
   "metadata": {},
   "outputs": [
    {
     "data": {
      "text/plain": [
       "[]"
      ]
     },
     "execution_count": 41,
     "metadata": {},
     "output_type": "execute_result"
    }
   ],
   "source": [
    "l1"
   ]
  },
  {
   "cell_type": "code",
   "execution_count": 42,
   "id": "783b7832-632a-4473-942d-f4f1156b257f",
   "metadata": {},
   "outputs": [
    {
     "name": "stdout",
     "output_type": "stream",
     "text": [
      "2\n",
      "3\n",
      "4\n",
      "5\n",
      "6\n",
      "7\n",
      "8\n",
      "9\n"
     ]
    }
   ],
   "source": [
    "l1=[]\n",
    "for i in l:\n",
    "    print(i+1)\n",
    "    l1.append(i+1)"
   ]
  },
  {
   "cell_type": "code",
   "execution_count": 43,
   "id": "53ed9ad0-b83f-4c74-8f18-b43cb9f55847",
   "metadata": {},
   "outputs": [
    {
     "data": {
      "text/plain": [
       "[1, 2, 3, 4, 5, 6, 7, 8]"
      ]
     },
     "execution_count": 43,
     "metadata": {},
     "output_type": "execute_result"
    }
   ],
   "source": [
    "l"
   ]
  },
  {
   "cell_type": "code",
   "execution_count": 44,
   "id": "8acacbcd-cb63-4911-b8f5-1381c141be6f",
   "metadata": {},
   "outputs": [
    {
     "data": {
      "text/plain": [
       "[2, 3, 4, 5, 6, 7, 8, 9]"
      ]
     },
     "execution_count": 44,
     "metadata": {},
     "output_type": "execute_result"
    }
   ],
   "source": [
    "l1"
   ]
  },
  {
   "cell_type": "markdown",
   "id": "3ba58c15-dc70-4873-87cc-07cc9da28a7a",
   "metadata": {},
   "source": [
    "UPPER CASE"
   ]
  },
  {
   "cell_type": "code",
   "execution_count": 45,
   "id": "b4a84409-4857-469d-acb7-2050f28ef295",
   "metadata": {},
   "outputs": [],
   "source": [
    "l=[\"rojin\",\"varghese\",\"data science\",\"course\"]   "
   ]
  },
  {
   "cell_type": "code",
   "execution_count": 46,
   "id": "116c8276-676a-46f6-ab4c-41a6aa36386a",
   "metadata": {},
   "outputs": [
    {
     "name": "stdout",
     "output_type": "stream",
     "text": [
      "rojin\n",
      "varghese\n",
      "data science\n",
      "course\n"
     ]
    }
   ],
   "source": [
    "for i in l:\n",
    "    print (i)"
   ]
  },
  {
   "cell_type": "code",
   "execution_count": 47,
   "id": "1fc1ced0-d0a3-4a3a-b678-a3a8c4734803",
   "metadata": {},
   "outputs": [
    {
     "name": "stdout",
     "output_type": "stream",
     "text": [
      "rojin\n",
      "varghese\n",
      "data science\n",
      "course\n"
     ]
    }
   ],
   "source": [
    "l1=[]\n",
    "for i in l:\n",
    "    print (i)\n",
    "    l1.append(i.upper())"
   ]
  },
  {
   "cell_type": "code",
   "execution_count": 48,
   "id": "e59bff2f-8150-4f0b-83bb-a0a8eb89c759",
   "metadata": {},
   "outputs": [
    {
     "data": {
      "text/plain": [
       "['ROJIN', 'VARGHESE', 'DATA SCIENCE', 'COURSE']"
      ]
     },
     "execution_count": 48,
     "metadata": {},
     "output_type": "execute_result"
    }
   ],
   "source": [
    "l1"
   ]
  },
  {
   "cell_type": "code",
   "execution_count": 49,
   "id": "cd5b081e-05af-4f0c-bd21-39b0c6d01260",
   "metadata": {},
   "outputs": [],
   "source": [
    "l=[1,2,3,4,5,\"rojin\",\"varghese\",325,564,856,\"abc\"]"
   ]
  },
  {
   "cell_type": "code",
   "execution_count": 50,
   "id": "e0bca8d6-5dae-4071-a128-ce29b1b486d9",
   "metadata": {},
   "outputs": [],
   "source": [
    "l1_num=[]\n",
    "l2_str=[]\n",
    "for i in l:\n",
    "    if type(i)== int or type(i) == float:\n",
    "        l1_num.append(i)\n",
    "    else:\n",
    "        l2_str.append(i)\n",
    "    "
   ]
  },
  {
   "cell_type": "code",
   "execution_count": 51,
   "id": "0aa7c1c0-2a37-443e-be9e-af9209967a7d",
   "metadata": {},
   "outputs": [
    {
     "data": {
      "text/plain": [
       "[1, 2, 3, 4, 5, 325, 564, 856]"
      ]
     },
     "execution_count": 51,
     "metadata": {},
     "output_type": "execute_result"
    }
   ],
   "source": [
    "l1_num"
   ]
  },
  {
   "cell_type": "code",
   "execution_count": 52,
   "id": "670ad06b-bef8-4bdd-8384-45810aaec98c",
   "metadata": {},
   "outputs": [
    {
     "data": {
      "text/plain": [
       "['rojin', 'varghese', 'abc']"
      ]
     },
     "execution_count": 52,
     "metadata": {},
     "output_type": "execute_result"
    }
   ],
   "source": [
    "l2_str"
   ]
  },
  {
   "cell_type": "code",
   "execution_count": null,
   "id": "48693ce0-5633-49e2-8b13-922b4f7fd0a4",
   "metadata": {},
   "outputs": [],
   "source": []
  }
 ],
 "metadata": {
  "kernelspec": {
   "display_name": "Python 3 (ipykernel)",
   "language": "python",
   "name": "python3"
  },
  "language_info": {
   "codemirror_mode": {
    "name": "ipython",
    "version": 3
   },
   "file_extension": ".py",
   "mimetype": "text/x-python",
   "name": "python",
   "nbconvert_exporter": "python",
   "pygments_lexer": "ipython3",
   "version": "3.10.8"
  }
 },
 "nbformat": 4,
 "nbformat_minor": 5
}
