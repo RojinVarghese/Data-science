{
 "cells": [
  {
   "cell_type": "markdown",
   "id": "dc456385-c896-4b74-ab7f-f0a3e2a027a6",
   "metadata": {},
   "source": [
    "List Function"
   ]
  },
  {
   "cell_type": "code",
   "execution_count": 4,
   "id": "b28b7065-8f2b-4564-afab-31d57459b75e",
   "metadata": {},
   "outputs": [],
   "source": [
    "l=[1,254,56,\"Rojin\",True,5+7j,2906.456]"
   ]
  },
  {
   "cell_type": "code",
   "execution_count": null,
   "id": "33252a54-a0b3-4133-b14d-76b1aee0d83e",
   "metadata": {},
   "outputs": [],
   "source": [
    "# List work in Square bracket \" [ ] \""
   ]
  },
  {
   "cell_type": "code",
   "execution_count": 3,
   "id": "c1aad930-eee3-4fd6-ac4b-f76b27ee238e",
   "metadata": {},
   "outputs": [
    {
     "data": {
      "text/plain": [
       "list"
      ]
     },
     "execution_count": 3,
     "metadata": {},
     "output_type": "execute_result"
    }
   ],
   "source": [
    "type (l)"
   ]
  },
  {
   "cell_type": "code",
   "execution_count": 5,
   "id": "517f55dc-a688-43dd-9c1a-554722c36109",
   "metadata": {},
   "outputs": [
    {
     "data": {
      "text/plain": [
       "1"
      ]
     },
     "execution_count": 5,
     "metadata": {},
     "output_type": "execute_result"
    }
   ],
   "source": [
    "l[0]"
   ]
  },
  {
   "cell_type": "code",
   "execution_count": 6,
   "id": "acc3e962-380a-4390-927d-24fbc6f94c72",
   "metadata": {},
   "outputs": [
    {
     "data": {
      "text/plain": [
       "2906.456"
      ]
     },
     "execution_count": 6,
     "metadata": {},
     "output_type": "execute_result"
    }
   ],
   "source": [
    "l[6]"
   ]
  },
  {
   "cell_type": "code",
   "execution_count": 7,
   "id": "624dab92-8758-492d-bbb2-7c728266858a",
   "metadata": {},
   "outputs": [
    {
     "ename": "IndexError",
     "evalue": "list index out of range",
     "output_type": "error",
     "traceback": [
      "\u001b[0;31m---------------------------------------------------------------------------\u001b[0m",
      "\u001b[0;31mIndexError\u001b[0m                                Traceback (most recent call last)",
      "Cell \u001b[0;32mIn[7], line 1\u001b[0m\n\u001b[0;32m----> 1\u001b[0m \u001b[43ml\u001b[49m\u001b[43m[\u001b[49m\u001b[38;5;241;43m90\u001b[39;49m\u001b[43m]\u001b[49m\n",
      "\u001b[0;31mIndexError\u001b[0m: list index out of range"
     ]
    }
   ],
   "source": [
    "l[90]"
   ]
  },
  {
   "cell_type": "code",
   "execution_count": 8,
   "id": "6e177c46-461d-4117-866a-3db33e69dcf4",
   "metadata": {},
   "outputs": [],
   "source": [
    "# error occur because List index out of Range ."
   ]
  },
  {
   "cell_type": "code",
   "execution_count": 9,
   "id": "11748979-1cf9-4862-916a-7f10ed891b60",
   "metadata": {},
   "outputs": [
    {
     "data": {
      "text/plain": [
       "[1, 254, 56, 'Rojin', True, (5+7j), 2906.456]"
      ]
     },
     "execution_count": 9,
     "metadata": {},
     "output_type": "execute_result"
    }
   ],
   "source": [
    "l"
   ]
  },
  {
   "cell_type": "markdown",
   "id": "d8175abb-c3db-41af-9d0e-1a5f4facf198",
   "metadata": {},
   "source": [
    "Find the data of 1,245,56 in List ?"
   ]
  },
  {
   "cell_type": "code",
   "execution_count": 10,
   "id": "befaa27d-5535-4f7c-8834-8a73ad89c9cf",
   "metadata": {},
   "outputs": [
    {
     "data": {
      "text/plain": [
       "[1, True]"
      ]
     },
     "execution_count": 10,
     "metadata": {},
     "output_type": "execute_result"
    }
   ],
   "source": [
    "l[::4]"
   ]
  },
  {
   "cell_type": "code",
   "execution_count": 11,
   "id": "66a00db7-9d7f-45e1-b013-b1ff472c662a",
   "metadata": {},
   "outputs": [],
   "source": [
    "# its Wrong Answer its a jump function "
   ]
  },
  {
   "cell_type": "code",
   "execution_count": 14,
   "id": "011e9773-92ee-42ab-ae34-0bfd7d775e9e",
   "metadata": {},
   "outputs": [
    {
     "data": {
      "text/plain": [
       "[1, 'Rojin', 2906.456]"
      ]
     },
     "execution_count": 14,
     "metadata": {},
     "output_type": "execute_result"
    }
   ],
   "source": [
    "l[0::3]"
   ]
  },
  {
   "cell_type": "code",
   "execution_count": 15,
   "id": "067c2339-4d65-4a8e-9b86-58070e4a8d39",
   "metadata": {},
   "outputs": [],
   "source": [
    "# Same Jump fuction"
   ]
  },
  {
   "cell_type": "code",
   "execution_count": 16,
   "id": "957015e9-1164-4c3f-abcb-8422987048df",
   "metadata": {},
   "outputs": [
    {
     "data": {
      "text/plain": [
       "[1, 254, 56]"
      ]
     },
     "execution_count": 16,
     "metadata": {},
     "output_type": "execute_result"
    }
   ],
   "source": [
    "l[0:3]"
   ]
  },
  {
   "cell_type": "code",
   "execution_count": 20,
   "id": "58553574-7edc-4fa6-bb5e-bc0ac6d03eab",
   "metadata": {},
   "outputs": [],
   "source": [
    "# Correct Answer"
   ]
  },
  {
   "cell_type": "markdown",
   "id": "923c6ce2-387f-4319-b853-f80450c89fcc",
   "metadata": {},
   "source": [
    "Reverse Function in List "
   ]
  },
  {
   "cell_type": "code",
   "execution_count": 18,
   "id": "8c903b3f-1443-4195-ab6a-55bef97a526e",
   "metadata": {},
   "outputs": [
    {
     "data": {
      "text/plain": [
       "2906.456"
      ]
     },
     "execution_count": 18,
     "metadata": {},
     "output_type": "execute_result"
    }
   ],
   "source": [
    "l[-1]"
   ]
  },
  {
   "cell_type": "code",
   "execution_count": 19,
   "id": "cbb5965d-831f-4487-99b5-1afc8fdeb528",
   "metadata": {},
   "outputs": [],
   "source": [
    "# reverse Function"
   ]
  },
  {
   "cell_type": "code",
   "execution_count": 21,
   "id": "f03501e8-eca9-4866-a26e-8cd6ed30d026",
   "metadata": {},
   "outputs": [
    {
     "data": {
      "text/plain": [
       "[2906.456, (5+7j), True, 'Rojin', 56, 254, 1]"
      ]
     },
     "execution_count": 21,
     "metadata": {},
     "output_type": "execute_result"
    }
   ],
   "source": [
    "l[::-1]"
   ]
  },
  {
   "cell_type": "code",
   "execution_count": 22,
   "id": "36ca69ca-ac45-4282-b5e2-dfee6d81e249",
   "metadata": {},
   "outputs": [
    {
     "data": {
      "text/plain": [
       "[1, 56, True, 2906.456]"
      ]
     },
     "execution_count": 22,
     "metadata": {},
     "output_type": "execute_result"
    }
   ],
   "source": [
    "l[0::2]"
   ]
  },
  {
   "cell_type": "code",
   "execution_count": 23,
   "id": "51bb1fbb-09d2-4786-85b1-0ea9e1217d45",
   "metadata": {},
   "outputs": [
    {
     "data": {
      "text/plain": [
       "[1, 254, 56, 'Rojin', True, (5+7j), 2906.456]"
      ]
     },
     "execution_count": 23,
     "metadata": {},
     "output_type": "execute_result"
    }
   ],
   "source": [
    "l"
   ]
  },
  {
   "cell_type": "code",
   "execution_count": 24,
   "id": "80a76538-1cd3-43cb-be34-85f62c5d749f",
   "metadata": {},
   "outputs": [],
   "source": [
    "s = \"Datascience\""
   ]
  },
  {
   "cell_type": "code",
   "execution_count": 25,
   "id": "56a1ee6f-73cf-4015-8bb3-8692b6a1e3bd",
   "metadata": {},
   "outputs": [
    {
     "ename": "TypeError",
     "evalue": "can only concatenate list (not \"str\") to list",
     "output_type": "error",
     "traceback": [
      "\u001b[0;31m---------------------------------------------------------------------------\u001b[0m",
      "\u001b[0;31mTypeError\u001b[0m                                 Traceback (most recent call last)",
      "Cell \u001b[0;32mIn[25], line 1\u001b[0m\n\u001b[0;32m----> 1\u001b[0m \u001b[43ml\u001b[49m\u001b[38;5;241;43m+\u001b[39;49m\u001b[43ms\u001b[49m\n",
      "\u001b[0;31mTypeError\u001b[0m: can only concatenate list (not \"str\") to list"
     ]
    }
   ],
   "source": [
    "l+s"
   ]
  },
  {
   "cell_type": "code",
   "execution_count": 26,
   "id": "3cedb5db-83e1-4504-bb23-18eff8a072eb",
   "metadata": {},
   "outputs": [],
   "source": [
    "# In this we try to add String and List this will not work because its will not concatenate . "
   ]
  },
  {
   "cell_type": "code",
   "execution_count": 33,
   "id": "04ff3d67-11d7-4e52-8d41-9f1bcfecca11",
   "metadata": {},
   "outputs": [
    {
     "data": {
      "text/plain": [
       "['D', 'a', 't', 'a', 's', 'c', 'i', 'e', 'n', 'c', 'e']"
      ]
     },
     "execution_count": 33,
     "metadata": {},
     "output_type": "execute_result"
    }
   ],
   "source": [
    "list (s)"
   ]
  },
  {
   "cell_type": "code",
   "execution_count": 34,
   "id": "0efbda94-3e8f-4f31-9cba-436a2f8baa90",
   "metadata": {},
   "outputs": [
    {
     "data": {
      "text/plain": [
       "[1, 254, 56, 'Rojin', True, (5+7j), 2906.456]"
      ]
     },
     "execution_count": 34,
     "metadata": {},
     "output_type": "execute_result"
    }
   ],
   "source": [
    "l"
   ]
  },
  {
   "cell_type": "code",
   "execution_count": 37,
   "id": "11532b04-2844-4f33-99f9-7ea0a2046452",
   "metadata": {},
   "outputs": [
    {
     "data": {
      "text/plain": [
       "'Rojin'"
      ]
     },
     "execution_count": 37,
     "metadata": {},
     "output_type": "execute_result"
    }
   ],
   "source": [
    "l[3]"
   ]
  },
  {
   "cell_type": "code",
   "execution_count": 39,
   "id": "aeb009f6-4c8e-484b-8b04-28ac75d1cf6e",
   "metadata": {},
   "outputs": [
    {
     "data": {
      "text/plain": [
       "str"
      ]
     },
     "execution_count": 39,
     "metadata": {},
     "output_type": "execute_result"
    }
   ],
   "source": [
    "type(l[3])"
   ]
  },
  {
   "cell_type": "markdown",
   "id": "f230e36b-e9bd-4d9e-86c5-fc64ec23a616",
   "metadata": {},
   "source": [
    "find \" Ro\""
   ]
  },
  {
   "cell_type": "code",
   "execution_count": 41,
   "id": "3f76513b-acf5-4516-bdbf-4f1fd239b428",
   "metadata": {},
   "outputs": [
    {
     "data": {
      "text/plain": [
       "'Ro'"
      ]
     },
     "execution_count": 41,
     "metadata": {},
     "output_type": "execute_result"
    }
   ],
   "source": [
    "l[3][0:2]"
   ]
  },
  {
   "cell_type": "code",
   "execution_count": 42,
   "id": "7d487e47-36f7-4d15-b341-a8297df24455",
   "metadata": {},
   "outputs": [
    {
     "data": {
      "text/plain": [
       "True"
      ]
     },
     "execution_count": 42,
     "metadata": {},
     "output_type": "execute_result"
    }
   ],
   "source": [
    "l[4]"
   ]
  },
  {
   "cell_type": "markdown",
   "id": "c35cb171-505c-4144-9676-f0f5fedb202f",
   "metadata": {},
   "source": [
    "Find \"Tr\" from True"
   ]
  },
  {
   "cell_type": "code",
   "execution_count": 44,
   "id": "aaf5e1f2-1296-4771-a5a4-e1096da2f3d3",
   "metadata": {},
   "outputs": [
    {
     "data": {
      "text/plain": [
       "'Tr'"
      ]
     },
     "execution_count": 44,
     "metadata": {},
     "output_type": "execute_result"
    }
   ],
   "source": [
    "str(l[4])[0:2]"
   ]
  },
  {
   "cell_type": "code",
   "execution_count": 45,
   "id": "c3d6682c-e79b-4536-b579-c56b1e006bb0",
   "metadata": {},
   "outputs": [
    {
     "data": {
      "text/plain": [
       "[1, 254, 56, 'Rojin', True, (5+7j), 2906.456]"
      ]
     },
     "execution_count": 45,
     "metadata": {},
     "output_type": "execute_result"
    }
   ],
   "source": [
    "l"
   ]
  },
  {
   "cell_type": "code",
   "execution_count": 46,
   "id": "1af86571-5c9f-4455-8a48-99f470f2ecc3",
   "metadata": {},
   "outputs": [
    {
     "ename": "TypeError",
     "evalue": "can only concatenate list (not \"int\") to list",
     "output_type": "error",
     "traceback": [
      "\u001b[0;31m---------------------------------------------------------------------------\u001b[0m",
      "\u001b[0;31mTypeError\u001b[0m                                 Traceback (most recent call last)",
      "Cell \u001b[0;32mIn[46], line 1\u001b[0m\n\u001b[0;32m----> 1\u001b[0m \u001b[43ml\u001b[49m\u001b[38;5;241;43m+\u001b[39;49m\u001b[38;5;241;43m5\u001b[39;49m\n",
      "\u001b[0;31mTypeError\u001b[0m: can only concatenate list (not \"int\") to list"
     ]
    }
   ],
   "source": [
    "l+5"
   ]
  },
  {
   "cell_type": "code",
   "execution_count": 47,
   "id": "0d42687b-e3f8-495d-a234-060c09119f12",
   "metadata": {},
   "outputs": [],
   "source": [
    "# try to add interger in List  not added,  due to interger not concatenate with list."
   ]
  },
  {
   "cell_type": "markdown",
   "id": "4b19a4bd-ce31-4489-96ce-c73e8610d2e0",
   "metadata": {},
   "source": [
    "Creating a new List "
   ]
  },
  {
   "cell_type": "code",
   "execution_count": 48,
   "id": "2b24b69b-060f-4676-8a50-0df559648235",
   "metadata": {},
   "outputs": [],
   "source": [
    "l1 =[3,4,5,6]"
   ]
  },
  {
   "cell_type": "code",
   "execution_count": 49,
   "id": "17cbd4be-66aa-4122-902d-117993ce0914",
   "metadata": {},
   "outputs": [
    {
     "data": {
      "text/plain": [
       "[1, 254, 56, 'Rojin', True, (5+7j), 2906.456, 3, 4, 5, 6]"
      ]
     },
     "execution_count": 49,
     "metadata": {},
     "output_type": "execute_result"
    }
   ],
   "source": [
    "l+l1"
   ]
  },
  {
   "cell_type": "code",
   "execution_count": 50,
   "id": "3d1d7863-d48a-445a-8efe-bc1f815f5562",
   "metadata": {},
   "outputs": [],
   "source": [
    "# here List added because we try to add a List."
   ]
  },
  {
   "cell_type": "code",
   "execution_count": 51,
   "id": "0b9bf006-1edb-4d45-8ee4-d6b9ce9ff701",
   "metadata": {},
   "outputs": [
    {
     "data": {
      "text/plain": [
       "[3, 4, 5, 6, 3, 4, 5, 6, 3, 4, 5, 6]"
      ]
     },
     "execution_count": 51,
     "metadata": {},
     "output_type": "execute_result"
    }
   ],
   "source": [
    "l1 * 3"
   ]
  },
  {
   "cell_type": "code",
   "execution_count": 52,
   "id": "fc27a027-1a04-40de-98ab-a96f588e54aa",
   "metadata": {},
   "outputs": [],
   "source": [
    "# here we mulitiple L1 list  into 3"
   ]
  },
  {
   "cell_type": "code",
   "execution_count": 3,
   "id": "bb0d1c7e-1ca3-4eb5-ab37-4f01cc7b59ac",
   "metadata": {},
   "outputs": [],
   "source": [
    "l = [1, 254, 56, 'Rojin', True, (5+7j), 2906.456]\n"
   ]
  },
  {
   "cell_type": "code",
   "execution_count": 4,
   "id": "2468c4a0-51ef-4f1a-82fc-2f2b946a9372",
   "metadata": {},
   "outputs": [
    {
     "data": {
      "text/plain": [
       "[1, 254, 56, 'Rojin', True, (5+7j), 2906.456]"
      ]
     },
     "execution_count": 4,
     "metadata": {},
     "output_type": "execute_result"
    }
   ],
   "source": [
    "l"
   ]
  },
  {
   "cell_type": "code",
   "execution_count": 5,
   "id": "26e03f6c-915f-4bcc-82e5-2c9fdc5460d8",
   "metadata": {},
   "outputs": [],
   "source": [
    "l1=[3,4,5,6]"
   ]
  },
  {
   "cell_type": "code",
   "execution_count": 6,
   "id": "dbfd95e6-2fb7-4f9b-8a79-741c3507a8d1",
   "metadata": {},
   "outputs": [
    {
     "data": {
      "text/plain": [
       "[1, 254, 56, 'Rojin', True, (5+7j), 2906.456, 3, 4, 5, 6]"
      ]
     },
     "execution_count": 6,
     "metadata": {},
     "output_type": "execute_result"
    }
   ],
   "source": [
    "l+l1"
   ]
  },
  {
   "cell_type": "code",
   "execution_count": 7,
   "id": "28dc6d09-69e2-4a8e-b0ca-4bd104e632dd",
   "metadata": {},
   "outputs": [
    {
     "data": {
      "text/plain": [
       "[3, 4, 5, 6, 3, 4, 5, 6, 3, 4, 5, 6]"
      ]
     },
     "execution_count": 7,
     "metadata": {},
     "output_type": "execute_result"
    }
   ],
   "source": [
    "l1*3"
   ]
  },
  {
   "cell_type": "code",
   "execution_count": 8,
   "id": "582f1163-2ed1-4113-9753-c2884c35acaf",
   "metadata": {},
   "outputs": [
    {
     "data": {
      "text/plain": [
       "[1, 254, 56, 'Rojin', True, (5+7j), 2906.456]"
      ]
     },
     "execution_count": 8,
     "metadata": {},
     "output_type": "execute_result"
    }
   ],
   "source": [
    "l"
   ]
  },
  {
   "cell_type": "code",
   "execution_count": 10,
   "id": "90320aeb-5cf0-4ee9-9c63-e7216244e159",
   "metadata": {},
   "outputs": [
    {
     "data": {
      "text/plain": [
       "7"
      ]
     },
     "execution_count": 10,
     "metadata": {},
     "output_type": "execute_result"
    }
   ],
   "source": [
    "len(l)"
   ]
  },
  {
   "cell_type": "code",
   "execution_count": 11,
   "id": "bfa1296b-8dd7-418b-8c93-6bf8e7ad7007",
   "metadata": {},
   "outputs": [],
   "source": [
    "# length of the list "
   ]
  },
  {
   "cell_type": "code",
   "execution_count": 12,
   "id": "3c74bb0a-5c8f-4579-aa35-59f43d16265a",
   "metadata": {},
   "outputs": [
    {
     "data": {
      "text/plain": [
       "[1, 254, 56, 'Rojin', True, (5+7j), 2906.456]"
      ]
     },
     "execution_count": 12,
     "metadata": {},
     "output_type": "execute_result"
    }
   ],
   "source": [
    "l"
   ]
  },
  {
   "cell_type": "code",
   "execution_count": 13,
   "id": "e37c3f47-33ee-4161-b22b-f349ad04c8e4",
   "metadata": {},
   "outputs": [
    {
     "data": {
      "text/plain": [
       "'Eariler we try to add Number in List its shows always Error '"
      ]
     },
     "execution_count": 13,
     "metadata": {},
     "output_type": "execute_result"
    }
   ],
   "source": [
    " \"\"\"Eariler we try to add Number in List its shows always Error \"\"\""
   ]
  },
  {
   "cell_type": "markdown",
   "id": "74d74c95-4337-4511-9c28-cc23096bba29",
   "metadata": {},
   "source": [
    "Using Append Function "
   ]
  },
  {
   "cell_type": "code",
   "execution_count": 14,
   "id": "9d2fa10e-dfc5-47ed-bf0a-bdea98c3ab24",
   "metadata": {},
   "outputs": [],
   "source": [
    "# Append using for add in the function "
   ]
  },
  {
   "cell_type": "code",
   "execution_count": 15,
   "id": "172e11f8-43df-4672-84c2-d298192ac779",
   "metadata": {},
   "outputs": [
    {
     "data": {
      "text/plain": [
       "[1, 254, 56, 'Rojin', True, (5+7j), 2906.456]"
      ]
     },
     "execution_count": 15,
     "metadata": {},
     "output_type": "execute_result"
    }
   ],
   "source": [
    "l"
   ]
  },
  {
   "cell_type": "code",
   "execution_count": 16,
   "id": "dfdd3dd4-a023-47db-89f9-36b44bf2b228",
   "metadata": {},
   "outputs": [],
   "source": [
    "#Using now append Function now "
   ]
  },
  {
   "cell_type": "code",
   "execution_count": 17,
   "id": "85c79648-8170-413e-9f6d-1eb38ad25fba",
   "metadata": {},
   "outputs": [],
   "source": [
    "l.append (5)"
   ]
  },
  {
   "cell_type": "code",
   "execution_count": 18,
   "id": "5f6626da-3caf-408c-bd55-7cc42e9b59d1",
   "metadata": {},
   "outputs": [
    {
     "data": {
      "text/plain": [
       "[1, 254, 56, 'Rojin', True, (5+7j), 2906.456, 5]"
      ]
     },
     "execution_count": 18,
     "metadata": {},
     "output_type": "execute_result"
    }
   ],
   "source": [
    "l"
   ]
  },
  {
   "cell_type": "code",
   "execution_count": 19,
   "id": "e96a2d5e-6588-4e4c-a291-ddaf87d9a1f2",
   "metadata": {},
   "outputs": [],
   "source": [
    "# in List 5 is added in the end "
   ]
  },
  {
   "cell_type": "code",
   "execution_count": 21,
   "id": "24febd3e-7fd2-4e37-8cf5-adcb72884e93",
   "metadata": {},
   "outputs": [],
   "source": [
    "s = \" Datascience\""
   ]
  },
  {
   "cell_type": "code",
   "execution_count": 22,
   "id": "1feeb93f-966a-462c-982c-146a8d8467e5",
   "metadata": {},
   "outputs": [
    {
     "data": {
      "text/plain": [
       "' Datascience'"
      ]
     },
     "execution_count": 22,
     "metadata": {},
     "output_type": "execute_result"
    }
   ],
   "source": [
    "s"
   ]
  },
  {
   "cell_type": "code",
   "execution_count": 23,
   "id": "6cba4ce6-227b-4958-84e0-78d69a8b6c27",
   "metadata": {},
   "outputs": [
    {
     "data": {
      "text/plain": [
       "str"
      ]
     },
     "execution_count": 23,
     "metadata": {},
     "output_type": "execute_result"
    }
   ],
   "source": [
    "type (s)"
   ]
  },
  {
   "cell_type": "markdown",
   "id": "8afb7b9e-d8c1-4a28-82c4-b3a2c828d0b3",
   "metadata": {},
   "source": [
    "Add string in List Using Append Function "
   ]
  },
  {
   "cell_type": "code",
   "execution_count": 24,
   "id": "6fc57c02-0ae9-4ab3-b073-b1b032cc6775",
   "metadata": {},
   "outputs": [
    {
     "data": {
      "text/plain": [
       "[1, 254, 56, 'Rojin', True, (5+7j), 2906.456, 5]"
      ]
     },
     "execution_count": 24,
     "metadata": {},
     "output_type": "execute_result"
    }
   ],
   "source": [
    "l"
   ]
  },
  {
   "cell_type": "code",
   "execution_count": 25,
   "id": "c284f079-a581-48c7-86cb-9d66549e2d64",
   "metadata": {},
   "outputs": [
    {
     "data": {
      "text/plain": [
       "' Datascience'"
      ]
     },
     "execution_count": 25,
     "metadata": {},
     "output_type": "execute_result"
    }
   ],
   "source": [
    "s"
   ]
  },
  {
   "cell_type": "code",
   "execution_count": 26,
   "id": "b47a0417-8a86-4f44-ac3a-7d979f5b66a3",
   "metadata": {},
   "outputs": [
    {
     "data": {
      "text/plain": [
       "list"
      ]
     },
     "execution_count": 26,
     "metadata": {},
     "output_type": "execute_result"
    }
   ],
   "source": [
    "type (l)"
   ]
  },
  {
   "cell_type": "code",
   "execution_count": 27,
   "id": "d7f0fac3-5336-475c-923c-fe021e8dd8c1",
   "metadata": {},
   "outputs": [
    {
     "data": {
      "text/plain": [
       "str"
      ]
     },
     "execution_count": 27,
     "metadata": {},
     "output_type": "execute_result"
    }
   ],
   "source": [
    "type(s)"
   ]
  },
  {
   "cell_type": "code",
   "execution_count": 28,
   "id": "87e4791a-3dca-4245-bf51-72fe8622c482",
   "metadata": {},
   "outputs": [],
   "source": [
    "l.append (s)"
   ]
  },
  {
   "cell_type": "code",
   "execution_count": 29,
   "id": "0a413512-2057-4281-ad28-fbf5b4a641d2",
   "metadata": {},
   "outputs": [
    {
     "data": {
      "text/plain": [
       "[1, 254, 56, 'Rojin', True, (5+7j), 2906.456, 5, ' Datascience']"
      ]
     },
     "execution_count": 29,
     "metadata": {},
     "output_type": "execute_result"
    }
   ],
   "source": [
    "l"
   ]
  },
  {
   "cell_type": "code",
   "execution_count": 30,
   "id": "0efa8be1-e9b3-4074-b0cd-a8d7afb8da34",
   "metadata": {},
   "outputs": [],
   "source": [
    "# \"Datascience \" added in List now using Append function "
   ]
  },
  {
   "cell_type": "code",
   "execution_count": 31,
   "id": "1011dbe1-3b4d-44f6-9b96-811d8a6a6872",
   "metadata": {},
   "outputs": [
    {
     "data": {
      "text/plain": [
       "[3, 4, 5, 6]"
      ]
     },
     "execution_count": 31,
     "metadata": {},
     "output_type": "execute_result"
    }
   ],
   "source": [
    "l1"
   ]
  },
  {
   "cell_type": "code",
   "execution_count": 32,
   "id": "07f82d59-cdac-4f53-96b4-9eed12769e55",
   "metadata": {},
   "outputs": [
    {
     "data": {
      "text/plain": [
       "[1, 254, 56, 'Rojin', True, (5+7j), 2906.456, 5, ' Datascience']"
      ]
     },
     "execution_count": 32,
     "metadata": {},
     "output_type": "execute_result"
    }
   ],
   "source": [
    "l"
   ]
  },
  {
   "cell_type": "code",
   "execution_count": 33,
   "id": "a09584d4-d50e-492e-9237-9c7d5622c184",
   "metadata": {},
   "outputs": [
    {
     "data": {
      "text/plain": [
       "' Datascience'"
      ]
     },
     "execution_count": 33,
     "metadata": {},
     "output_type": "execute_result"
    }
   ],
   "source": [
    "s"
   ]
  },
  {
   "cell_type": "code",
   "execution_count": 34,
   "id": "6923e6fd-916e-4e92-ba6d-eb59efe5146c",
   "metadata": {},
   "outputs": [],
   "source": [
    "l.append (l1)"
   ]
  },
  {
   "cell_type": "code",
   "execution_count": 35,
   "id": "f55c75b6-f3b3-4731-aa6d-80cf7995bc8a",
   "metadata": {},
   "outputs": [
    {
     "data": {
      "text/plain": [
       "[1, 254, 56, 'Rojin', True, (5+7j), 2906.456, 5, ' Datascience', [3, 4, 5, 6]]"
      ]
     },
     "execution_count": 35,
     "metadata": {},
     "output_type": "execute_result"
    }
   ],
   "source": [
    "l"
   ]
  },
  {
   "cell_type": "code",
   "execution_count": 36,
   "id": "1700a3e6-9b12-4f91-88d9-c20bb24e3f23",
   "metadata": {},
   "outputs": [],
   "source": [
    "# here list added into list "
   ]
  },
  {
   "cell_type": "markdown",
   "id": "d6a2a608-f693-4f26-9b8e-1202d16c025b",
   "metadata": {},
   "source": [
    "Find out list  [3,4,5,6] output should be 4 "
   ]
  },
  {
   "cell_type": "code",
   "execution_count": 37,
   "id": "28dc7f15-7365-4d83-ad4c-f4ac42bf920b",
   "metadata": {},
   "outputs": [
    {
     "data": {
      "text/plain": [
       "[1, 254, 56, 'Rojin', True, (5+7j), 2906.456, 5, ' Datascience', [3, 4, 5, 6]]"
      ]
     },
     "execution_count": 37,
     "metadata": {},
     "output_type": "execute_result"
    }
   ],
   "source": [
    "l"
   ]
  },
  {
   "cell_type": "code",
   "execution_count": 38,
   "id": "41d57656-86a7-4d04-be8f-b099d2ca4e0a",
   "metadata": {},
   "outputs": [
    {
     "data": {
      "text/plain": [
       "[3, 4, 5, 6]"
      ]
     },
     "execution_count": 38,
     "metadata": {},
     "output_type": "execute_result"
    }
   ],
   "source": [
    "l[-1]"
   ]
  },
  {
   "cell_type": "code",
   "execution_count": 39,
   "id": "cb3199a6-43cb-4def-a975-433a44666cd3",
   "metadata": {},
   "outputs": [
    {
     "data": {
      "text/plain": [
       "4"
      ]
     },
     "execution_count": 39,
     "metadata": {},
     "output_type": "execute_result"
    }
   ],
   "source": [
    "l[-1][1]"
   ]
  },
  {
   "cell_type": "markdown",
   "id": "514df61f-df01-43fe-b250-0f9eb5611286",
   "metadata": {},
   "source": [
    "EXTEND Function"
   ]
  },
  {
   "cell_type": "code",
   "execution_count": 40,
   "id": "32d7d798-d84b-4d32-854a-57a09fbde73a",
   "metadata": {},
   "outputs": [
    {
     "data": {
      "text/plain": [
       "[1, 254, 56, 'Rojin', True, (5+7j), 2906.456, 5, ' Datascience', [3, 4, 5, 6]]"
      ]
     },
     "execution_count": 40,
     "metadata": {},
     "output_type": "execute_result"
    }
   ],
   "source": [
    "l"
   ]
  },
  {
   "cell_type": "code",
   "execution_count": 41,
   "id": "6384d110-f2f4-4317-93f1-fb7fbc5be747",
   "metadata": {},
   "outputs": [
    {
     "ename": "TypeError",
     "evalue": "'int' object is not iterable",
     "output_type": "error",
     "traceback": [
      "\u001b[0;31m---------------------------------------------------------------------------\u001b[0m",
      "\u001b[0;31mTypeError\u001b[0m                                 Traceback (most recent call last)",
      "Cell \u001b[0;32mIn[41], line 1\u001b[0m\n\u001b[0;32m----> 1\u001b[0m \u001b[43ml\u001b[49m\u001b[38;5;241;43m.\u001b[39;49m\u001b[43mextend\u001b[49m\u001b[43m \u001b[49m\u001b[43m(\u001b[49m\u001b[38;5;241;43m4\u001b[39;49m\u001b[43m)\u001b[49m\n",
      "\u001b[0;31mTypeError\u001b[0m: 'int' object is not iterable"
     ]
    }
   ],
   "source": [
    "l.extend (4)"
   ]
  },
  {
   "cell_type": "code",
   "execution_count": 42,
   "id": "90d79672-879a-4911-a240-c12c14ecf333",
   "metadata": {},
   "outputs": [],
   "source": [
    "l.extend ('Rojin')"
   ]
  },
  {
   "cell_type": "code",
   "execution_count": 43,
   "id": "0b8455b5-7454-4ffd-9619-e0bc8e48adde",
   "metadata": {},
   "outputs": [
    {
     "data": {
      "text/plain": [
       "[1,\n",
       " 254,\n",
       " 56,\n",
       " 'Rojin',\n",
       " True,\n",
       " (5+7j),\n",
       " 2906.456,\n",
       " 5,\n",
       " ' Datascience',\n",
       " [3, 4, 5, 6],\n",
       " 'R',\n",
       " 'o',\n",
       " 'j',\n",
       " 'i',\n",
       " 'n']"
      ]
     },
     "execution_count": 43,
     "metadata": {},
     "output_type": "execute_result"
    }
   ],
   "source": [
    "l"
   ]
  },
  {
   "cell_type": "code",
   "execution_count": 46,
   "id": "622d802a-2854-44df-b1ac-88dc64b266b4",
   "metadata": {},
   "outputs": [],
   "source": [
    "l.extend ([3,4,5])"
   ]
  },
  {
   "cell_type": "code",
   "execution_count": 47,
   "id": "1ff3e591-2547-42a0-97ed-3bc64c77488f",
   "metadata": {},
   "outputs": [
    {
     "data": {
      "text/plain": [
       "[1,\n",
       " 254,\n",
       " 56,\n",
       " 'Rojin',\n",
       " True,\n",
       " (5+7j),\n",
       " 2906.456,\n",
       " 5,\n",
       " ' Datascience',\n",
       " [3, 4, 5, 6],\n",
       " 'R',\n",
       " 'o',\n",
       " 'j',\n",
       " 'i',\n",
       " 'n',\n",
       " 3,\n",
       " 4,\n",
       " 5,\n",
       " 6,\n",
       " 3,\n",
       " 4,\n",
       " 5]"
      ]
     },
     "execution_count": 47,
     "metadata": {},
     "output_type": "execute_result"
    }
   ],
   "source": [
    "l"
   ]
  },
  {
   "cell_type": "code",
   "execution_count": 48,
   "id": "4ddbf2e0-823e-4300-9e37-ad692108b35d",
   "metadata": {},
   "outputs": [
    {
     "data": {
      "text/plain": [
       "[1,\n",
       " 254,\n",
       " 56,\n",
       " 'Rojin',\n",
       " True,\n",
       " (5+7j),\n",
       " 2906.456,\n",
       " 5,\n",
       " ' Datascience',\n",
       " [3, 4, 5, 6],\n",
       " 'R',\n",
       " 'o',\n",
       " 'j',\n",
       " 'i',\n",
       " 'n',\n",
       " 3,\n",
       " 4,\n",
       " 5,\n",
       " 6,\n",
       " 3,\n",
       " 4,\n",
       " 5]"
      ]
     },
     "execution_count": 48,
     "metadata": {},
     "output_type": "execute_result"
    }
   ],
   "source": [
    "l"
   ]
  },
  {
   "cell_type": "markdown",
   "id": "d10a5bf4-6947-41b1-99d2-9e0a399f3e6b",
   "metadata": {},
   "source": [
    " Append : as it is add some in the List \n",
    " \n",
    " Extend : first unrap and add in the list "
   ]
  },
  {
   "cell_type": "markdown",
   "id": "0725f11b-1ce0-432a-ada3-46e71e540eda",
   "metadata": {},
   "source": [
    "Append and Extend add Data in Last Position of the list always "
   ]
  },
  {
   "cell_type": "code",
   "execution_count": 50,
   "id": "e424727c-48bb-43c2-afa0-e0ccb90b53b8",
   "metadata": {},
   "outputs": [
    {
     "data": {
      "text/plain": [
       "[3, 4, 5, 6]"
      ]
     },
     "execution_count": 50,
     "metadata": {},
     "output_type": "execute_result"
    }
   ],
   "source": [
    "l1"
   ]
  },
  {
   "cell_type": "markdown",
   "id": "b73b9dd8-8184-47c9-9a6b-01842cb4ac0c",
   "metadata": {},
   "source": [
    "INSERT Function "
   ]
  },
  {
   "cell_type": "code",
   "execution_count": 51,
   "id": "77b98b54-4c60-46f5-835d-47690bf71085",
   "metadata": {},
   "outputs": [],
   "source": [
    "# INSERT Fuction basically using for add data in the list we can add in first position or  second position "
   ]
  },
  {
   "cell_type": "code",
   "execution_count": 52,
   "id": "b127a426-a7c7-4562-985f-9474cf9a4d8f",
   "metadata": {},
   "outputs": [
    {
     "data": {
      "text/plain": [
       "[3, 4, 5, 6]"
      ]
     },
     "execution_count": 52,
     "metadata": {},
     "output_type": "execute_result"
    }
   ],
   "source": [
    "l1"
   ]
  },
  {
   "cell_type": "code",
   "execution_count": 54,
   "id": "15620678-9bee-49ad-b8e2-12d0c7da7c64",
   "metadata": {
    "jp-MarkdownHeadingCollapsed": true,
    "tags": []
   },
   "outputs": [],
   "source": [
    "l1.insert (1,\"Thomas\")"
   ]
  },
  {
   "cell_type": "code",
   "execution_count": 55,
   "id": "9af0eb56-ac66-4b0f-b922-e85a04797be4",
   "metadata": {},
   "outputs": [
    {
     "data": {
      "text/plain": [
       "[3, 'Thomas', 4, 5, 6]"
      ]
     },
     "execution_count": 55,
     "metadata": {},
     "output_type": "execute_result"
    }
   ],
   "source": [
    "l1"
   ]
  },
  {
   "cell_type": "code",
   "execution_count": 56,
   "id": "ba5011b4-0d69-47b6-a138-bd68917c1b6c",
   "metadata": {},
   "outputs": [],
   "source": [
    "# line 54 we insert name \"Thomas \" in 1st place and its added check line 55"
   ]
  },
  {
   "cell_type": "code",
   "execution_count": 57,
   "id": "0b63cfd1-dd46-4cc7-8f37-54e0a2a5882b",
   "metadata": {},
   "outputs": [],
   "source": [
    "l1.insert(2,[2,3,4])"
   ]
  },
  {
   "cell_type": "code",
   "execution_count": 58,
   "id": "bfb55d27-5381-47a1-9ceb-e2c2010ec60f",
   "metadata": {},
   "outputs": [
    {
     "data": {
      "text/plain": [
       "[3, 'Thomas', [2, 3, 4], 4, 5, 6]"
      ]
     },
     "execution_count": 58,
     "metadata": {},
     "output_type": "execute_result"
    }
   ],
   "source": [
    "l1"
   ]
  },
  {
   "cell_type": "code",
   "execution_count": 59,
   "id": "c8983fc0-dcd2-4e0d-ae36-81a30acfef52",
   "metadata": {},
   "outputs": [],
   "source": [
    "# line 57 we insert [2,3,4] in the 2nd Position  and its added check Line 58."
   ]
  },
  {
   "cell_type": "code",
   "execution_count": 60,
   "id": "81305c08-7426-4a89-ba3c-6011ac86c910",
   "metadata": {},
   "outputs": [],
   "source": [
    "l1.insert(-1,45)"
   ]
  },
  {
   "cell_type": "code",
   "execution_count": 61,
   "id": "a6465562-7442-4496-8ad4-96bee993267b",
   "metadata": {},
   "outputs": [
    {
     "data": {
      "text/plain": [
       "[3, 'Thomas', [2, 3, 4], 4, 5, 45, 6]"
      ]
     },
     "execution_count": 61,
     "metadata": {},
     "output_type": "execute_result"
    }
   ],
   "source": [
    "l1"
   ]
  },
  {
   "cell_type": "code",
   "execution_count": 62,
   "id": "1e520e6d-491e-44ed-894c-a1e05eabd773",
   "metadata": {},
   "outputs": [],
   "source": [
    "# line 60 we insert 45 its added in second last why because its shift into -1 only but 6 is shifted 45 added in -1 postion."
   ]
  },
  {
   "cell_type": "code",
   "execution_count": 63,
   "id": "3e499c73-e591-4c65-abe1-1206bb2aae0c",
   "metadata": {},
   "outputs": [
    {
     "data": {
      "text/plain": [
       "[3, 'Thomas', [2, 3, 4], 4, 5, 45, 6]"
      ]
     },
     "execution_count": 63,
     "metadata": {},
     "output_type": "execute_result"
    }
   ],
   "source": [
    "l1"
   ]
  },
  {
   "cell_type": "code",
   "execution_count": 65,
   "id": "8410c429-424f-4b25-bd57-2a0db026bfbd",
   "metadata": {},
   "outputs": [],
   "source": [
    "l1.insert (0,46)"
   ]
  },
  {
   "cell_type": "code",
   "execution_count": 66,
   "id": "07490ad6-a17d-41c0-97e5-6ae849d78169",
   "metadata": {
    "tags": []
   },
   "outputs": [
    {
     "data": {
      "text/plain": [
       "[46, 3, 'Thomas', [2, 3, 4], 4, 5, 45, 6]"
      ]
     },
     "execution_count": 66,
     "metadata": {},
     "output_type": "execute_result"
    }
   ],
   "source": [
    "l1"
   ]
  },
  {
   "cell_type": "markdown",
   "id": "b20dfc48-c083-4f7a-b749-b2731b8a8df6",
   "metadata": {},
   "source": [
    "POP function "
   ]
  },
  {
   "cell_type": "markdown",
   "id": "fa6b95a8-3d21-41f6-a9d0-095d7453b231",
   "metadata": {},
   "source": [
    "REMOVE and RETURN item at index."
   ]
  },
  {
   "cell_type": "code",
   "execution_count": 67,
   "id": "65d5e2e2-933c-4c73-93b5-a157b24fa063",
   "metadata": {},
   "outputs": [
    {
     "data": {
      "text/plain": [
       "[46, 3, 'Thomas', [2, 3, 4], 4, 5, 45, 6]"
      ]
     },
     "execution_count": 67,
     "metadata": {},
     "output_type": "execute_result"
    }
   ],
   "source": [
    "l1"
   ]
  },
  {
   "cell_type": "code",
   "execution_count": 68,
   "id": "37e8a33c-a8bb-43cf-b0a9-6521f629e196",
   "metadata": {},
   "outputs": [
    {
     "data": {
      "text/plain": [
       "6"
      ]
     },
     "execution_count": 68,
     "metadata": {},
     "output_type": "execute_result"
    }
   ],
   "source": [
    "l1.pop()"
   ]
  },
  {
   "cell_type": "code",
   "execution_count": 69,
   "id": "09b5b03a-7c1b-4290-9869-ae8a7a9f06d7",
   "metadata": {},
   "outputs": [],
   "source": [
    "# POP function remove data from Last Postion..."
   ]
  },
  {
   "cell_type": "code",
   "execution_count": 70,
   "id": "12dc71c3-cbea-4289-8745-0e13b190b450",
   "metadata": {},
   "outputs": [
    {
     "data": {
      "text/plain": [
       "45"
      ]
     },
     "execution_count": 70,
     "metadata": {},
     "output_type": "execute_result"
    }
   ],
   "source": [
    "l1.pop()"
   ]
  },
  {
   "cell_type": "code",
   "execution_count": 71,
   "id": "10ea0ce0-40e5-4882-a45e-189a804efe66",
   "metadata": {},
   "outputs": [
    {
     "data": {
      "text/plain": [
       "[46, 3, 'Thomas', [2, 3, 4], 4, 5]"
      ]
     },
     "execution_count": 71,
     "metadata": {},
     "output_type": "execute_result"
    }
   ],
   "source": [
    "l1"
   ]
  },
  {
   "cell_type": "code",
   "execution_count": 72,
   "id": "66e17e32-4536-4580-acdb-2ff716b86b66",
   "metadata": {},
   "outputs": [
    {
     "data": {
      "text/plain": [
       "[2, 3, 4]"
      ]
     },
     "execution_count": 72,
     "metadata": {},
     "output_type": "execute_result"
    }
   ],
   "source": [
    "l1.pop(3)"
   ]
  },
  {
   "cell_type": "code",
   "execution_count": 73,
   "id": "0b81da39-e6c0-4cd8-907b-6ef71fa727ee",
   "metadata": {},
   "outputs": [],
   "source": [
    "# In this index remove the 3 postion index."
   ]
  },
  {
   "cell_type": "code",
   "execution_count": 74,
   "id": "85052056-b7d4-4ce3-bfec-f33ea311dbc9",
   "metadata": {},
   "outputs": [
    {
     "data": {
      "text/plain": [
       "[46, 3, 'Thomas', 4, 5]"
      ]
     },
     "execution_count": 74,
     "metadata": {},
     "output_type": "execute_result"
    }
   ],
   "source": [
    "l1"
   ]
  },
  {
   "cell_type": "markdown",
   "id": "e27e692b-a8d8-4ce4-91a2-ce74ab3979bb",
   "metadata": {},
   "source": [
    "REMOVE Function "
   ]
  },
  {
   "cell_type": "markdown",
   "id": "1a63062a-8062-4d0d-a1c6-c2e17bd3076a",
   "metadata": {},
   "source": [
    "Remove first occurence of Value "
   ]
  },
  {
   "cell_type": "code",
   "execution_count": 75,
   "id": "e2b9d964-4d1b-42c9-9f4d-a73f7db426cc",
   "metadata": {},
   "outputs": [],
   "source": [
    "# POP remove the index and REMOVE function will remove the value ."
   ]
  },
  {
   "cell_type": "code",
   "execution_count": 76,
   "id": "e5e80d41-f511-4135-afbf-f18bf0e10f17",
   "metadata": {},
   "outputs": [
    {
     "data": {
      "text/plain": [
       "[46, 3, 'Thomas', 4, 5]"
      ]
     },
     "execution_count": 76,
     "metadata": {},
     "output_type": "execute_result"
    }
   ],
   "source": [
    "l1"
   ]
  },
  {
   "cell_type": "code",
   "execution_count": 77,
   "id": "d85e5889-3c61-47f7-9d8e-93cf549ba19f",
   "metadata": {},
   "outputs": [
    {
     "ename": "ValueError",
     "evalue": "list.remove(x): x not in list",
     "output_type": "error",
     "traceback": [
      "\u001b[0;31m---------------------------------------------------------------------------\u001b[0m",
      "\u001b[0;31mValueError\u001b[0m                                Traceback (most recent call last)",
      "Cell \u001b[0;32mIn[77], line 1\u001b[0m\n\u001b[0;32m----> 1\u001b[0m \u001b[43ml1\u001b[49m\u001b[38;5;241;43m.\u001b[39;49m\u001b[43mremove\u001b[49m\u001b[43m \u001b[49m\u001b[43m(\u001b[49m\u001b[38;5;241;43m234\u001b[39;49m\u001b[43m)\u001b[49m\n",
      "\u001b[0;31mValueError\u001b[0m: list.remove(x): x not in list"
     ]
    }
   ],
   "source": [
    "l1.remove (234)"
   ]
  },
  {
   "cell_type": "code",
   "execution_count": 78,
   "id": "ffdabc98-4d0c-4418-9ebd-ba87d2ea78f7",
   "metadata": {},
   "outputs": [],
   "source": [
    "# error because value not available in List."
   ]
  },
  {
   "cell_type": "code",
   "execution_count": 79,
   "id": "b48d1d29-9983-49a9-a370-a2e96c7e4d9f",
   "metadata": {},
   "outputs": [],
   "source": [
    "l1.remove (\"Thomas\")"
   ]
  },
  {
   "cell_type": "code",
   "execution_count": 80,
   "id": "e64f92c4-c380-4801-836b-ae679f63d7fc",
   "metadata": {},
   "outputs": [
    {
     "data": {
      "text/plain": [
       "[46, 3, 4, 5]"
      ]
     },
     "execution_count": 80,
     "metadata": {},
     "output_type": "execute_result"
    }
   ],
   "source": [
    "l1"
   ]
  },
  {
   "cell_type": "code",
   "execution_count": 81,
   "id": "2e350ef4-657f-4084-a664-166caa2df21e",
   "metadata": {},
   "outputs": [],
   "source": [
    "# its Remove "
   ]
  },
  {
   "cell_type": "code",
   "execution_count": 84,
   "id": "9cebe2fc-c008-4f29-8eff-8ceeee588f94",
   "metadata": {},
   "outputs": [],
   "source": [
    "l1.insert(1,'Thomas')"
   ]
  },
  {
   "cell_type": "code",
   "execution_count": 85,
   "id": "738e7683-f975-4d76-bb0b-e9fc772ed9e0",
   "metadata": {},
   "outputs": [
    {
     "data": {
      "text/plain": [
       "[46, 'Thomas', 3, 4, 5]"
      ]
     },
     "execution_count": 85,
     "metadata": {},
     "output_type": "execute_result"
    }
   ],
   "source": [
    "l1"
   ]
  },
  {
   "cell_type": "code",
   "execution_count": 86,
   "id": "f0f0f683-e7dc-44ac-8fa1-535f17f23870",
   "metadata": {},
   "outputs": [],
   "source": [
    "# if we try to Thomas remove \" mas \" its not Possible because string is a immutable object "
   ]
  },
  {
   "cell_type": "code",
   "execution_count": 87,
   "id": "543fe293-6558-418f-9e09-21453dda8266",
   "metadata": {},
   "outputs": [
    {
     "data": {
      "text/plain": [
       "[46, 'Thomas', 3, 4, 5]"
      ]
     },
     "execution_count": 87,
     "metadata": {},
     "output_type": "execute_result"
    }
   ],
   "source": [
    "l1"
   ]
  },
  {
   "cell_type": "code",
   "execution_count": 88,
   "id": "229462a1-40f3-49cc-be26-87a796fcd997",
   "metadata": {},
   "outputs": [],
   "source": [
    "l1.append(4)"
   ]
  },
  {
   "cell_type": "code",
   "execution_count": 89,
   "id": "8e2389b5-2e9b-4614-b4fe-55c2cfe3c9ae",
   "metadata": {},
   "outputs": [
    {
     "data": {
      "text/plain": [
       "[46, 'Thomas', 3, 4, 5, 4]"
      ]
     },
     "execution_count": 89,
     "metadata": {},
     "output_type": "execute_result"
    }
   ],
   "source": [
    "l1"
   ]
  },
  {
   "cell_type": "code",
   "execution_count": 90,
   "id": "4d2e2a55-79bf-44ce-a785-8d8b0db0fbf2",
   "metadata": {},
   "outputs": [],
   "source": [
    " #now there is two 4 in the list "
   ]
  },
  {
   "cell_type": "code",
   "execution_count": 91,
   "id": "de27b3eb-66da-4ca9-92d3-8e0416d7fb80",
   "metadata": {},
   "outputs": [],
   "source": [
    "l1.remove(4)"
   ]
  },
  {
   "cell_type": "code",
   "execution_count": 92,
   "id": "6e865637-d30a-4bcd-8fb7-d97f1072fd0d",
   "metadata": {},
   "outputs": [
    {
     "data": {
      "text/plain": [
       "[46, 'Thomas', 3, 5, 4]"
      ]
     },
     "execution_count": 92,
     "metadata": {},
     "output_type": "execute_result"
    }
   ],
   "source": [
    "l1"
   ]
  },
  {
   "cell_type": "code",
   "execution_count": 93,
   "id": "0ab4566b-bd3f-4e7e-b18a-e7c2ff31f179",
   "metadata": {},
   "outputs": [],
   "source": [
    "#its remove only 1 at a time "
   ]
  },
  {
   "cell_type": "code",
   "execution_count": 94,
   "id": "10063b7d-77c9-46b0-9db3-806c92976fdd",
   "metadata": {},
   "outputs": [
    {
     "data": {
      "text/plain": [
       "[46, 'Thomas', 3, 5, 4]"
      ]
     },
     "execution_count": 94,
     "metadata": {},
     "output_type": "execute_result"
    }
   ],
   "source": [
    "l1"
   ]
  },
  {
   "cell_type": "markdown",
   "id": "2ec6b4dd-329f-4855-9875-85a7001395c3",
   "metadata": {},
   "source": [
    "Reverse Function "
   ]
  },
  {
   "cell_type": "markdown",
   "id": "8ec39e0c-fe82-42b7-92c3-e6f35b880374",
   "metadata": {},
   "source": [
    "Reverse permanently the List "
   ]
  },
  {
   "cell_type": "code",
   "execution_count": 95,
   "id": "302f607c-b7f9-4b7d-bd10-d8dee0bc9b86",
   "metadata": {},
   "outputs": [
    {
     "data": {
      "text/plain": [
       "[46, 'Thomas', 3, 5, 4]"
      ]
     },
     "execution_count": 95,
     "metadata": {},
     "output_type": "execute_result"
    }
   ],
   "source": [
    "l1"
   ]
  },
  {
   "cell_type": "code",
   "execution_count": 97,
   "id": "251813bc-d8fb-4ac2-a338-2bdca08f4ec6",
   "metadata": {},
   "outputs": [
    {
     "data": {
      "text/plain": [
       "[4, 5, 3, 'Thomas', 46]"
      ]
     },
     "execution_count": 97,
     "metadata": {},
     "output_type": "execute_result"
    }
   ],
   "source": [
    "l1"
   ]
  },
  {
   "cell_type": "code",
   "execution_count": 98,
   "id": "7425ebcd-54a8-4800-ab61-20cdcdd1e975",
   "metadata": {},
   "outputs": [
    {
     "data": {
      "text/plain": [
       "[46, 'Thomas', 3, 5, 4]"
      ]
     },
     "execution_count": 98,
     "metadata": {},
     "output_type": "execute_result"
    }
   ],
   "source": [
    "l1[::-1]"
   ]
  },
  {
   "cell_type": "code",
   "execution_count": 99,
   "id": "93bd8e99-528c-456a-a566-09b10e3746ca",
   "metadata": {},
   "outputs": [],
   "source": [
    "# temporally Reverse the list "
   ]
  },
  {
   "cell_type": "code",
   "execution_count": 100,
   "id": "09efc10b-e5ac-4f96-a3ce-8adddbb00ab8",
   "metadata": {},
   "outputs": [],
   "source": [
    "l1.reverse()"
   ]
  },
  {
   "cell_type": "code",
   "execution_count": 101,
   "id": "5155af0e-3878-4cc5-9deb-285ae1d64d45",
   "metadata": {},
   "outputs": [
    {
     "data": {
      "text/plain": [
       "[46, 'Thomas', 3, 5, 4]"
      ]
     },
     "execution_count": 101,
     "metadata": {},
     "output_type": "execute_result"
    }
   ],
   "source": [
    "l1"
   ]
  },
  {
   "cell_type": "code",
   "execution_count": 102,
   "id": "41961770-0c43-41f1-bd26-e2c1532bd671",
   "metadata": {},
   "outputs": [],
   "source": [
    "l1= l1[::-1]"
   ]
  },
  {
   "cell_type": "code",
   "execution_count": 103,
   "id": "ed82f697-1fb2-4012-b0a2-315133d40a52",
   "metadata": {},
   "outputs": [
    {
     "data": {
      "text/plain": [
       "[4, 5, 3, 'Thomas', 46]"
      ]
     },
     "execution_count": 103,
     "metadata": {},
     "output_type": "execute_result"
    }
   ],
   "source": [
    "l1"
   ]
  },
  {
   "cell_type": "code",
   "execution_count": 104,
   "id": "b0b9db5b-11b9-4424-9c29-b7428b196d64",
   "metadata": {},
   "outputs": [],
   "source": [
    "l1.reverse()"
   ]
  },
  {
   "cell_type": "code",
   "execution_count": 105,
   "id": "a8294ee0-f26a-4480-8b7d-c66ec2a114b0",
   "metadata": {},
   "outputs": [
    {
     "data": {
      "text/plain": [
       "[46, 'Thomas', 3, 5, 4]"
      ]
     },
     "execution_count": 105,
     "metadata": {},
     "output_type": "execute_result"
    }
   ],
   "source": [
    "l1"
   ]
  },
  {
   "cell_type": "markdown",
   "id": "2b55d22b-9d3e-4499-845d-cb7eeca0524d",
   "metadata": {},
   "source": [
    "SORT Function "
   ]
  },
  {
   "cell_type": "markdown",
   "id": "41e65370-4495-4263-9ba7-251929bcda1c",
   "metadata": {},
   "source": [
    "Sort will sorting list or data from lower to upper"
   ]
  },
  {
   "cell_type": "code",
   "execution_count": 106,
   "id": "653dd7f6-10b3-40a6-9009-1890a4291cb5",
   "metadata": {},
   "outputs": [
    {
     "ename": "TypeError",
     "evalue": "'<' not supported between instances of 'str' and 'int'",
     "output_type": "error",
     "traceback": [
      "\u001b[0;31m---------------------------------------------------------------------------\u001b[0m",
      "\u001b[0;31mTypeError\u001b[0m                                 Traceback (most recent call last)",
      "Cell \u001b[0;32mIn[106], line 1\u001b[0m\n\u001b[0;32m----> 1\u001b[0m \u001b[43ml1\u001b[49m\u001b[38;5;241;43m.\u001b[39;49m\u001b[43msort\u001b[49m\u001b[43m \u001b[49m\u001b[43m(\u001b[49m\u001b[43m)\u001b[49m\n",
      "\u001b[0;31mTypeError\u001b[0m: '<' not supported between instances of 'str' and 'int'"
     ]
    }
   ],
   "source": [
    "l1.sort ()"
   ]
  },
  {
   "cell_type": "code",
   "execution_count": 107,
   "id": "5a5da9ef-be3e-41a6-8d54-3e0412afe00d",
   "metadata": {},
   "outputs": [
    {
     "data": {
      "text/plain": [
       "[46, 'Thomas', 3, 5, 4]"
      ]
     },
     "execution_count": 107,
     "metadata": {},
     "output_type": "execute_result"
    }
   ],
   "source": [
    "l1"
   ]
  },
  {
   "cell_type": "code",
   "execution_count": 108,
   "id": "f2f56977-a081-44b7-9e2f-fc40d8185cb8",
   "metadata": {},
   "outputs": [],
   "source": [
    "l2=[29,25,56,10,5,43]"
   ]
  },
  {
   "cell_type": "code",
   "execution_count": 109,
   "id": "a4b4197d-b5a4-4efd-a9d9-0f1d79356d59",
   "metadata": {},
   "outputs": [],
   "source": [
    "l2.sort()"
   ]
  },
  {
   "cell_type": "code",
   "execution_count": 110,
   "id": "57185af4-9e3f-46b2-a59d-1733e00a497a",
   "metadata": {},
   "outputs": [
    {
     "data": {
      "text/plain": [
       "[5, 10, 25, 29, 43, 56]"
      ]
     },
     "execution_count": 110,
     "metadata": {},
     "output_type": "execute_result"
    }
   ],
   "source": [
    "l2"
   ]
  },
  {
   "cell_type": "code",
   "execution_count": 111,
   "id": "389c1066-908a-44dd-be4c-d497daa8860d",
   "metadata": {},
   "outputs": [],
   "source": [
    "l3 = [34,\"Rojin\",45,12,\"thomas\"]"
   ]
  },
  {
   "cell_type": "code",
   "execution_count": 112,
   "id": "7f3138da-ab5d-47ee-9b57-de6a7b3a83a0",
   "metadata": {},
   "outputs": [
    {
     "ename": "TypeError",
     "evalue": "'<' not supported between instances of 'str' and 'int'",
     "output_type": "error",
     "traceback": [
      "\u001b[0;31m---------------------------------------------------------------------------\u001b[0m",
      "\u001b[0;31mTypeError\u001b[0m                                 Traceback (most recent call last)",
      "Cell \u001b[0;32mIn[112], line 1\u001b[0m\n\u001b[0;32m----> 1\u001b[0m \u001b[43ml3\u001b[49m\u001b[38;5;241;43m.\u001b[39;49m\u001b[43msort\u001b[49m\u001b[43m(\u001b[49m\u001b[43m)\u001b[49m\n",
      "\u001b[0;31mTypeError\u001b[0m: '<' not supported between instances of 'str' and 'int'"
     ]
    }
   ],
   "source": [
    "l3.sort()"
   ]
  },
  {
   "cell_type": "code",
   "execution_count": 113,
   "id": "764a102c-219d-4db7-8bdb-4f4e8bf4f137",
   "metadata": {},
   "outputs": [],
   "source": [
    "# it will not sort because its not support string and interger in same list if avaiable "
   ]
  },
  {
   "cell_type": "code",
   "execution_count": 114,
   "id": "5412ccc2-1bc4-4e27-a123-e91031028031",
   "metadata": {},
   "outputs": [],
   "source": [
    "l4 = ['rojin','thomas','Data','Science']"
   ]
  },
  {
   "cell_type": "code",
   "execution_count": 115,
   "id": "1d065e33-48b2-473c-bc91-d8817e3728b7",
   "metadata": {},
   "outputs": [],
   "source": [
    "l4.sort()"
   ]
  },
  {
   "cell_type": "code",
   "execution_count": 116,
   "id": "cec16d73-ec83-4f75-835d-2ebf9b769542",
   "metadata": {},
   "outputs": [
    {
     "data": {
      "text/plain": [
       "['Data', 'Science', 'rojin', 'thomas']"
      ]
     },
     "execution_count": 116,
     "metadata": {},
     "output_type": "execute_result"
    }
   ],
   "source": [
    "l4"
   ]
  },
  {
   "cell_type": "raw",
   "id": "5139d8e9-8113-4ae9-ad21-36b2c20b6a1a",
   "metadata": {},
   "source": [
    "INDEX Fuction "
   ]
  },
  {
   "cell_type": "code",
   "execution_count": 117,
   "id": "06a5b558-de1a-49b7-923b-317b7927fe4e",
   "metadata": {},
   "outputs": [
    {
     "data": {
      "text/plain": [
       "['Data', 'Science', 'rojin', 'thomas']"
      ]
     },
     "execution_count": 117,
     "metadata": {},
     "output_type": "execute_result"
    }
   ],
   "source": [
    "l4"
   ]
  },
  {
   "cell_type": "code",
   "execution_count": 118,
   "id": "fb8d57bf-85c2-46ee-bd72-849075af9e07",
   "metadata": {},
   "outputs": [
    {
     "data": {
      "text/plain": [
       "2"
      ]
     },
     "execution_count": 118,
     "metadata": {},
     "output_type": "execute_result"
    }
   ],
   "source": [
    "l4.index('rojin')"
   ]
  },
  {
   "cell_type": "code",
   "execution_count": 119,
   "id": "93cb0a1c-ac77-438c-bb7a-044d6980c9ee",
   "metadata": {},
   "outputs": [
    {
     "data": {
      "text/plain": [
       "1"
      ]
     },
     "execution_count": 119,
     "metadata": {},
     "output_type": "execute_result"
    }
   ],
   "source": [
    "l4.index('Science')"
   ]
  },
  {
   "cell_type": "code",
   "execution_count": 120,
   "id": "bb2c217b-6743-40e6-9823-652104da19a5",
   "metadata": {},
   "outputs": [],
   "source": [
    "# In string index will tell the postion of the index in the list "
   ]
  },
  {
   "cell_type": "markdown",
   "id": "2f8d998e-ea28-420e-b6eb-0af5a0130806",
   "metadata": {},
   "source": [
    "COUNT Function "
   ]
  },
  {
   "cell_type": "markdown",
   "id": "d80ea16c-1642-4280-8806-36ad91ccbcf8",
   "metadata": {},
   "source": [
    "In count it will show the element how many time its repeated in List "
   ]
  },
  {
   "cell_type": "code",
   "execution_count": 121,
   "id": "56b2853d-c9ab-4dee-aba1-aa96e9b0d3c6",
   "metadata": {},
   "outputs": [
    {
     "data": {
      "text/plain": [
       "['Data', 'Science', 'rojin', 'thomas']"
      ]
     },
     "execution_count": 121,
     "metadata": {},
     "output_type": "execute_result"
    }
   ],
   "source": [
    "l4"
   ]
  },
  {
   "cell_type": "code",
   "execution_count": 122,
   "id": "2de7e4bb-95ab-48f8-9c89-cc221f94327a",
   "metadata": {},
   "outputs": [
    {
     "data": {
      "text/plain": [
       "1"
      ]
     },
     "execution_count": 122,
     "metadata": {},
     "output_type": "execute_result"
    }
   ],
   "source": [
    "l4.count('Science')"
   ]
  },
  {
   "cell_type": "code",
   "execution_count": 123,
   "id": "9c04a05d-da22-4405-b77e-683d5e4047c3",
   "metadata": {},
   "outputs": [],
   "source": [
    "R = ('rojin ', \"Thomas\", 'shyam', 'rojin')"
   ]
  },
  {
   "cell_type": "code",
   "execution_count": 124,
   "id": "9c085982-c8f6-4753-a28d-89af8c416a6b",
   "metadata": {},
   "outputs": [
    {
     "data": {
      "text/plain": [
       "('rojin ', 'Thomas', 'shyam', 'rojin')"
      ]
     },
     "execution_count": 124,
     "metadata": {},
     "output_type": "execute_result"
    }
   ],
   "source": [
    "R"
   ]
  },
  {
   "cell_type": "code",
   "execution_count": 125,
   "id": "52e045da-67ee-4402-86c2-d196cbefebc3",
   "metadata": {},
   "outputs": [
    {
     "data": {
      "text/plain": [
       "1"
      ]
     },
     "execution_count": 125,
     "metadata": {},
     "output_type": "execute_result"
    }
   ],
   "source": [
    "R.count('rojin')"
   ]
  },
  {
   "cell_type": "code",
   "execution_count": 126,
   "id": "2d1329de-202c-4a63-b96f-2dbc2b9299f3",
   "metadata": {},
   "outputs": [],
   "source": [
    "s = 'Rojin'"
   ]
  },
  {
   "cell_type": "code",
   "execution_count": 128,
   "id": "e6b07b7c-b213-4fc3-9d07-a73cb24145d3",
   "metadata": {},
   "outputs": [
    {
     "ename": "TypeError",
     "evalue": "'str' object does not support item assignment",
     "output_type": "error",
     "traceback": [
      "\u001b[0;31m---------------------------------------------------------------------------\u001b[0m",
      "\u001b[0;31mTypeError\u001b[0m                                 Traceback (most recent call last)",
      "Cell \u001b[0;32mIn[128], line 1\u001b[0m\n\u001b[0;32m----> 1\u001b[0m \u001b[43ms\u001b[49m\u001b[43m[\u001b[49m\u001b[38;5;241;43m0\u001b[39;49m\u001b[43m]\u001b[49m\u001b[38;5;241m=\u001b[39m \u001b[38;5;124m'\u001b[39m\u001b[38;5;124ma\u001b[39m\u001b[38;5;124m'\u001b[39m\n",
      "\u001b[0;31mTypeError\u001b[0m: 'str' object does not support item assignment"
     ]
    }
   ],
   "source": [
    "s[0]= 'a'"
   ]
  },
  {
   "cell_type": "code",
   "execution_count": null,
   "id": "ce8535b5-8ac5-40bc-858a-433b11832c5a",
   "metadata": {},
   "outputs": [],
   "source": [
    "# In string we cant change the elemeent "
   ]
  },
  {
   "cell_type": "code",
   "execution_count": 127,
   "id": "0a34706b-1946-484e-ab1e-664f2cce2a21",
   "metadata": {},
   "outputs": [],
   "source": [
    "l5 = [22,5,6,7]"
   ]
  },
  {
   "cell_type": "code",
   "execution_count": 129,
   "id": "3e1fc2b8-2a79-4e5e-a6c1-82fa73b44c67",
   "metadata": {},
   "outputs": [],
   "source": [
    "l5[0]=30"
   ]
  },
  {
   "cell_type": "code",
   "execution_count": 130,
   "id": "1e22d332-1027-4f15-9169-739c00ffac14",
   "metadata": {},
   "outputs": [
    {
     "data": {
      "text/plain": [
       "[30, 5, 6, 7]"
      ]
     },
     "execution_count": 130,
     "metadata": {},
     "output_type": "execute_result"
    }
   ],
   "source": [
    "l5"
   ]
  },
  {
   "cell_type": "code",
   "execution_count": 131,
   "id": "9740a616-d4a2-4466-8d14-2763e1da066d",
   "metadata": {},
   "outputs": [],
   "source": [
    "# In list we can change the element ."
   ]
  },
  {
   "cell_type": "code",
   "execution_count": 132,
   "id": "0ca6c56b-cd57-495c-9394-121b5d3f8a87",
   "metadata": {},
   "outputs": [
    {
     "data": {
      "text/plain": [
       "'Rojin'"
      ]
     },
     "execution_count": 132,
     "metadata": {},
     "output_type": "execute_result"
    }
   ],
   "source": [
    "s"
   ]
  },
  {
   "cell_type": "code",
   "execution_count": 135,
   "id": "c2c3f17d-10d0-475b-b769-d97551c1c228",
   "metadata": {},
   "outputs": [
    {
     "data": {
      "text/plain": [
       "'Rojin'"
      ]
     },
     "execution_count": 135,
     "metadata": {},
     "output_type": "execute_result"
    }
   ],
   "source": [
    "s.replace ('r','T')"
   ]
  },
  {
   "cell_type": "code",
   "execution_count": 134,
   "id": "76bcbb87-fce5-4ede-8a1c-d5e528ef7e28",
   "metadata": {},
   "outputs": [
    {
     "data": {
      "text/plain": [
       "'Rojin'"
      ]
     },
     "execution_count": 134,
     "metadata": {},
     "output_type": "execute_result"
    }
   ],
   "source": [
    "s"
   ]
  },
  {
   "cell_type": "code",
   "execution_count": 137,
   "id": "f1a297eb-0a8b-4fd2-84fb-1e8fb409c44f",
   "metadata": {},
   "outputs": [
    {
     "data": {
      "text/plain": [
       "'Rojin'"
      ]
     },
     "execution_count": 137,
     "metadata": {},
     "output_type": "execute_result"
    }
   ],
   "source": [
    "s"
   ]
  },
  {
   "cell_type": "code",
   "execution_count": 138,
   "id": "94199b85-7b97-44a9-86c3-e969c4fac12a",
   "metadata": {},
   "outputs": [
    {
     "data": {
      "text/plain": [
       "'Rojin'"
      ]
     },
     "execution_count": 138,
     "metadata": {},
     "output_type": "execute_result"
    }
   ],
   "source": [
    "s.replace ('r','T')"
   ]
  },
  {
   "cell_type": "markdown",
   "id": "f593279c-b8fc-4a86-8789-47fe06235225",
   "metadata": {},
   "source": [
    "TUPLES Function "
   ]
  },
  {
   "cell_type": "code",
   "execution_count": 139,
   "id": "01c055e4-acd6-4b74-8191-e9d72f6161f7",
   "metadata": {},
   "outputs": [],
   "source": [
    "T =(2,3,4,5,\"Rojin\",45.65,False,45+567j,[3,5,6])"
   ]
  },
  {
   "cell_type": "code",
   "execution_count": 140,
   "id": "4ede3bc0-8f33-4a08-bcdf-4f0398d48987",
   "metadata": {},
   "outputs": [
    {
     "data": {
      "text/plain": [
       "(2, 3, 4, 5, 'Rojin', 45.65, False, (45+567j), [3, 5, 6])"
      ]
     },
     "execution_count": 140,
     "metadata": {},
     "output_type": "execute_result"
    }
   ],
   "source": [
    "T"
   ]
  },
  {
   "cell_type": "code",
   "execution_count": 141,
   "id": "e902b96d-858e-4c54-8356-430f50d0b7c1",
   "metadata": {},
   "outputs": [],
   "source": [
    "# In tuples we can store any elements of data."
   ]
  },
  {
   "cell_type": "code",
   "execution_count": 142,
   "id": "be0f7866-268f-4b4d-a49a-6c65f2cb96a7",
   "metadata": {},
   "outputs": [
    {
     "data": {
      "text/plain": [
       "tuple"
      ]
     },
     "execution_count": 142,
     "metadata": {},
     "output_type": "execute_result"
    }
   ],
   "source": [
    "type(T)"
   ]
  },
  {
   "cell_type": "code",
   "execution_count": 143,
   "id": "98b84a61-2f1a-469d-a699-182dc8046d56",
   "metadata": {},
   "outputs": [
    {
     "data": {
      "text/plain": [
       "9"
      ]
     },
     "execution_count": 143,
     "metadata": {},
     "output_type": "execute_result"
    }
   ],
   "source": [
    "len(T)"
   ]
  },
  {
   "cell_type": "code",
   "execution_count": 148,
   "id": "1171f3e4-8515-4083-84bc-94950efd90d4",
   "metadata": {},
   "outputs": [
    {
     "data": {
      "text/plain": [
       "2"
      ]
     },
     "execution_count": 148,
     "metadata": {},
     "output_type": "execute_result"
    }
   ],
   "source": [
    "T[0]"
   ]
  },
  {
   "cell_type": "code",
   "execution_count": 149,
   "id": "bee8470b-cb90-438b-9bfc-e4c2075942a5",
   "metadata": {},
   "outputs": [
    {
     "data": {
      "text/plain": [
       "([3, 5, 6], (45+567j), False, 45.65, 'Rojin', 5, 4, 3, 2)"
      ]
     },
     "execution_count": 149,
     "metadata": {},
     "output_type": "execute_result"
    }
   ],
   "source": [
    "T[::-1]"
   ]
  },
  {
   "cell_type": "code",
   "execution_count": 150,
   "id": "3a6d08c8-21bb-49a0-b43b-c6b603d50f51",
   "metadata": {},
   "outputs": [
    {
     "data": {
      "text/plain": [
       "['Data', 'Science', 'rojin', 'thomas']"
      ]
     },
     "execution_count": 150,
     "metadata": {},
     "output_type": "execute_result"
    }
   ],
   "source": [
    "l4"
   ]
  },
  {
   "cell_type": "code",
   "execution_count": 151,
   "id": "801ceed2-98c4-43cc-a4f4-f519d4a5f8c7",
   "metadata": {},
   "outputs": [],
   "source": [
    "l4[0]= 23456"
   ]
  },
  {
   "cell_type": "code",
   "execution_count": 152,
   "id": "f41f7ae3-3dd8-4b57-92a2-6d29f9b97299",
   "metadata": {},
   "outputs": [
    {
     "data": {
      "text/plain": [
       "[23456, 'Science', 'rojin', 'thomas']"
      ]
     },
     "execution_count": 152,
     "metadata": {},
     "output_type": "execute_result"
    }
   ],
   "source": [
    "l4"
   ]
  },
  {
   "cell_type": "code",
   "execution_count": 153,
   "id": "1dd7f8bf-1661-4dcf-a113-26af6e55aed4",
   "metadata": {},
   "outputs": [
    {
     "data": {
      "text/plain": [
       "(2, 3, 4, 5, 'Rojin', 45.65, False, (45+567j), [3, 5, 6])"
      ]
     },
     "execution_count": 153,
     "metadata": {},
     "output_type": "execute_result"
    }
   ],
   "source": [
    "T"
   ]
  },
  {
   "cell_type": "code",
   "execution_count": 155,
   "id": "5b2335d6-c75a-4736-ba3f-ce830994431e",
   "metadata": {},
   "outputs": [
    {
     "ename": "TypeError",
     "evalue": "'tuple' object does not support item assignment",
     "output_type": "error",
     "traceback": [
      "\u001b[0;31m---------------------------------------------------------------------------\u001b[0m",
      "\u001b[0;31mTypeError\u001b[0m                                 Traceback (most recent call last)",
      "Cell \u001b[0;32mIn[155], line 1\u001b[0m\n\u001b[0;32m----> 1\u001b[0m \u001b[43mT\u001b[49m\u001b[43m[\u001b[49m\u001b[38;5;241;43m0\u001b[39;49m\u001b[43m]\u001b[49m\u001b[38;5;241m=\u001b[39m \u001b[38;5;124m\"\u001b[39m\u001b[38;5;124mrojin\u001b[39m\u001b[38;5;124m\"\u001b[39m\n",
      "\u001b[0;31mTypeError\u001b[0m: 'tuple' object does not support item assignment"
     ]
    }
   ],
   "source": [
    "T[0]= \"rojin\""
   ]
  },
  {
   "cell_type": "code",
   "execution_count": 156,
   "id": "502e4233-7f3a-4d18-ae3e-1a0198599e10",
   "metadata": {},
   "outputs": [
    {
     "data": {
      "text/plain": [
       "([3, 5, 6], (45+567j), False, 45.65, 'Rojin', 5, 4, 3, 2)"
      ]
     },
     "execution_count": 156,
     "metadata": {},
     "output_type": "execute_result"
    }
   ],
   "source": [
    "T[::-1]"
   ]
  },
  {
   "cell_type": "code",
   "execution_count": 157,
   "id": "ae633717-93dc-446d-80cb-1d36f18e8143",
   "metadata": {},
   "outputs": [
    {
     "data": {
      "text/plain": [
       "1"
      ]
     },
     "execution_count": 157,
     "metadata": {},
     "output_type": "execute_result"
    }
   ],
   "source": [
    "T.count(5)"
   ]
  },
  {
   "cell_type": "code",
   "execution_count": 158,
   "id": "5d3d4673-4ba3-4eba-a741-855b1f257bd8",
   "metadata": {},
   "outputs": [
    {
     "data": {
      "text/plain": [
       "0"
      ]
     },
     "execution_count": 158,
     "metadata": {},
     "output_type": "execute_result"
    }
   ],
   "source": [
    "T.count (60)"
   ]
  },
  {
   "cell_type": "code",
   "execution_count": 159,
   "id": "a9987b9b-9737-4555-950b-3bf05e3848a8",
   "metadata": {},
   "outputs": [
    {
     "data": {
      "text/plain": [
       "6"
      ]
     },
     "execution_count": 159,
     "metadata": {},
     "output_type": "execute_result"
    }
   ],
   "source": [
    "T.index(False)"
   ]
  },
  {
   "cell_type": "code",
   "execution_count": 160,
   "id": "edaaeeb0-7cdf-4935-be51-439bca181c5e",
   "metadata": {},
   "outputs": [
    {
     "data": {
      "text/plain": [
       "(2, 3, 4, 5, 'Rojin', 45.65, False, (45+567j), [3, 5, 6])"
      ]
     },
     "execution_count": 160,
     "metadata": {},
     "output_type": "execute_result"
    }
   ],
   "source": [
    "T"
   ]
  },
  {
   "cell_type": "markdown",
   "id": "2aaab6f2-8f5b-4657-ad5c-7963e8dfd2a4",
   "metadata": {},
   "source": [
    "SET Function "
   ]
  },
  {
   "cell_type": "code",
   "execution_count": 161,
   "id": "bc28a8d2-5678-4c92-bfa5-ced7c5c41aa9",
   "metadata": {},
   "outputs": [],
   "source": [
    "s1= {}"
   ]
  },
  {
   "cell_type": "code",
   "execution_count": 162,
   "id": "bf6317e3-d882-468d-a8b4-4ff96cfe4b12",
   "metadata": {},
   "outputs": [
    {
     "data": {
      "text/plain": [
       "dict"
      ]
     },
     "execution_count": 162,
     "metadata": {},
     "output_type": "execute_result"
    }
   ],
   "source": [
    "type(s1)"
   ]
  },
  {
   "cell_type": "code",
   "execution_count": 163,
   "id": "d7d577e8-6c87-4430-ae20-ed2ad92b720f",
   "metadata": {},
   "outputs": [],
   "source": [
    "s2={2,3,4,5,6}"
   ]
  },
  {
   "cell_type": "code",
   "execution_count": 164,
   "id": "e2a4c4d9-74dd-4e3f-8933-97fea558b5a9",
   "metadata": {},
   "outputs": [
    {
     "data": {
      "text/plain": [
       "set"
      ]
     },
     "execution_count": 164,
     "metadata": {},
     "output_type": "execute_result"
    }
   ],
   "source": [
    "type(s2)"
   ]
  },
  {
   "cell_type": "code",
   "execution_count": 165,
   "id": "89a14bd5-64b7-4d3a-ba3a-86a23afce106",
   "metadata": {},
   "outputs": [],
   "source": [
    "s3 = {324,569,5698,\"rojin\",45+89j,34.569,(3,5,6)}"
   ]
  },
  {
   "cell_type": "code",
   "execution_count": 166,
   "id": "4e56be4e-68ec-4caf-b70f-65b3822b7f7d",
   "metadata": {},
   "outputs": [
    {
     "data": {
      "text/plain": [
       "{(3, 5, 6), (45+89j), 324, 34.569, 569, 5698, 'rojin'}"
      ]
     },
     "execution_count": 166,
     "metadata": {},
     "output_type": "execute_result"
    }
   ],
   "source": [
    "s3"
   ]
  },
  {
   "cell_type": "code",
   "execution_count": 168,
   "id": "f695bf76-06bc-437b-83ce-717700490704",
   "metadata": {},
   "outputs": [],
   "source": [
    "s4={2,3,4,5,66,5,2,3,7,5,9,8,9,5,1,5,6,3}"
   ]
  },
  {
   "cell_type": "code",
   "execution_count": 169,
   "id": "24edfd0b-3761-48e3-ac4a-bb70d1d4d6ad",
   "metadata": {},
   "outputs": [
    {
     "data": {
      "text/plain": [
       "{1, 2, 3, 4, 5, 6, 7, 8, 9, 66}"
      ]
     },
     "execution_count": 169,
     "metadata": {},
     "output_type": "execute_result"
    }
   ],
   "source": [
    "s4"
   ]
  },
  {
   "cell_type": "code",
   "execution_count": 170,
   "id": "bdea6ba9-6fef-4aa7-b444-12df813b97e2",
   "metadata": {},
   "outputs": [],
   "source": [
    "# SET remove same element ."
   ]
  },
  {
   "cell_type": "code",
   "execution_count": 171,
   "id": "4db71c4d-d700-48c5-994e-fde9d6188949",
   "metadata": {},
   "outputs": [],
   "source": [
    "s5={2,3,4,5,66,5,2,3,7,5,9,8,9,5,1,5,6,3, \"rojin\",\"Rojin\"}"
   ]
  },
  {
   "cell_type": "code",
   "execution_count": 172,
   "id": "85c29015-132d-4d0f-a8c6-2bfb48b38248",
   "metadata": {},
   "outputs": [
    {
     "data": {
      "text/plain": [
       "{1, 2, 3, 4, 5, 6, 66, 7, 8, 9, 'Rojin', 'rojin'}"
      ]
     },
     "execution_count": 172,
     "metadata": {},
     "output_type": "execute_result"
    }
   ],
   "source": [
    "s5"
   ]
  },
  {
   "cell_type": "code",
   "execution_count": 173,
   "id": "c8b753b4-fbe3-4184-839b-210f0a3f7a33",
   "metadata": {},
   "outputs": [],
   "source": [
    "# SET will keep unique elements only in set function."
   ]
  },
  {
   "cell_type": "code",
   "execution_count": 174,
   "id": "29ccabdc-e528-48ec-9148-c21daff1163c",
   "metadata": {},
   "outputs": [
    {
     "data": {
      "text/plain": [
       "{1, 2, 3, 4, 5, 6, 66, 7, 8, 9, 'Rojin', 'rojin'}"
      ]
     },
     "execution_count": 174,
     "metadata": {},
     "output_type": "execute_result"
    }
   ],
   "source": [
    "set(s5)"
   ]
  },
  {
   "cell_type": "code",
   "execution_count": 175,
   "id": "3e512922-bf67-4420-9fca-6cb320c00fc6",
   "metadata": {},
   "outputs": [
    {
     "data": {
      "text/plain": [
       "{1, 2, 3, 4, 5, 6, 66, 7, 8, 9, 'Rojin', 'rojin'}"
      ]
     },
     "execution_count": 175,
     "metadata": {},
     "output_type": "execute_result"
    }
   ],
   "source": [
    "s5"
   ]
  },
  {
   "cell_type": "code",
   "execution_count": 177,
   "id": "15eefded-7df1-4341-8a61-6456cf04a415",
   "metadata": {},
   "outputs": [],
   "source": [
    "s5.add (10)"
   ]
  },
  {
   "cell_type": "code",
   "execution_count": 178,
   "id": "6e903eae-26eb-4488-9725-07f78f28e89b",
   "metadata": {},
   "outputs": [
    {
     "data": {
      "text/plain": [
       "{1, 10, 2, 3, 4, 5, 6, 66, 7, 8, 9, 'Rojin', 'rojin'}"
      ]
     },
     "execution_count": 178,
     "metadata": {},
     "output_type": "execute_result"
    }
   ],
   "source": [
    "s5"
   ]
  },
  {
   "cell_type": "code",
   "execution_count": 179,
   "id": "d29a4b4f-61ec-46b8-918f-5cb651a77808",
   "metadata": {},
   "outputs": [],
   "source": [
    "s5.remove(66)"
   ]
  },
  {
   "cell_type": "code",
   "execution_count": 180,
   "id": "421f80e7-b638-4a9d-a49e-81e4e555a748",
   "metadata": {},
   "outputs": [
    {
     "data": {
      "text/plain": [
       "{1, 10, 2, 3, 4, 5, 6, 7, 8, 9, 'Rojin', 'rojin'}"
      ]
     },
     "execution_count": 180,
     "metadata": {},
     "output_type": "execute_result"
    }
   ],
   "source": [
    "s5"
   ]
  },
  {
   "cell_type": "code",
   "execution_count": null,
   "id": "da9449d4-eb35-4ee9-963d-6b37248a89d6",
   "metadata": {},
   "outputs": [],
   "source": []
  }
 ],
 "metadata": {
  "kernelspec": {
   "display_name": "Python 3 (ipykernel)",
   "language": "python",
   "name": "python3"
  },
  "language_info": {
   "codemirror_mode": {
    "name": "ipython",
    "version": 3
   },
   "file_extension": ".py",
   "mimetype": "text/x-python",
   "name": "python",
   "nbconvert_exporter": "python",
   "pygments_lexer": "ipython3",
   "version": "3.10.8"
  }
 },
 "nbformat": 4,
 "nbformat_minor": 5
}
