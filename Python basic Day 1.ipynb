{
 "cells": [
  {
   "cell_type": "code",
   "execution_count": 1,
   "id": "f51e5993-6f56-4212-a482-45a35d24e599",
   "metadata": {},
   "outputs": [
    {
     "data": {
      "text/plain": [
       "3"
      ]
     },
     "execution_count": 1,
     "metadata": {},
     "output_type": "execute_result"
    }
   ],
   "source": [
    "1+2"
   ]
  },
  {
   "cell_type": "code",
   "execution_count": null,
   "id": "498015fe-53e0-4d9c-a1a6-21b579baac6d",
   "metadata": {},
   "outputs": [],
   "source": [
    "# add of 2 number"
   ]
  },
  {
   "cell_type": "code",
   "execution_count": 2,
   "id": "1407ae01-cac9-4221-96e0-20bdf18a6d91",
   "metadata": {},
   "outputs": [
    {
     "name": "stdout",
     "output_type": "stream",
     "text": [
      "This is my first class for Data science \n"
     ]
    }
   ],
   "source": [
    "print(\"This is my first class for Data science \")\n"
   ]
  },
  {
   "cell_type": "code",
   "execution_count": 1,
   "id": "1e667d0e-4ce6-4a15-9376-d7989eb0e0dd",
   "metadata": {},
   "outputs": [
    {
     "data": {
      "text/plain": [
       "25"
      ]
     },
     "execution_count": 1,
     "metadata": {},
     "output_type": "execute_result"
    }
   ],
   "source": [
    "5*5"
   ]
  },
  {
   "cell_type": "code",
   "execution_count": null,
   "id": "8a7fdc75-f505-4355-9055-aabdf4dd2d76",
   "metadata": {},
   "outputs": [],
   "source": [
    "#Multiple of 2 number"
   ]
  },
  {
   "cell_type": "code",
   "execution_count": 2,
   "id": "87fc7e6c-c21c-4e7d-8980-089a576886f6",
   "metadata": {},
   "outputs": [],
   "source": [
    "a=10"
   ]
  },
  {
   "cell_type": "code",
   "execution_count": 3,
   "id": "8a7065cd-e607-439c-8614-133dc4205e87",
   "metadata": {},
   "outputs": [
    {
     "data": {
      "text/plain": [
       "10"
      ]
     },
     "execution_count": 3,
     "metadata": {},
     "output_type": "execute_result"
    }
   ],
   "source": [
    "a"
   ]
  },
  {
   "cell_type": "code",
   "execution_count": 1,
   "id": "e7fe6652-6577-4e29-a28a-52d93d0d33ff",
   "metadata": {},
   "outputs": [],
   "source": [
    "rojin = 31"
   ]
  },
  {
   "cell_type": "code",
   "execution_count": 9,
   "id": "808afa03-5e4a-4da3-9a7c-3dd8d1de65be",
   "metadata": {},
   "outputs": [
    {
     "data": {
      "text/plain": [
       "31"
      ]
     },
     "execution_count": 9,
     "metadata": {},
     "output_type": "execute_result"
    }
   ],
   "source": [
    "rojin"
   ]
  },
  {
   "cell_type": "code",
   "execution_count": 6,
   "id": "f416059e-b8b1-4240-8870-6a112340f325",
   "metadata": {},
   "outputs": [],
   "source": [
    "a=10"
   ]
  },
  {
   "cell_type": "code",
   "execution_count": 7,
   "id": "ad10529e-527e-409a-b969-11867a85fc99",
   "metadata": {},
   "outputs": [
    {
     "data": {
      "text/plain": [
       "10"
      ]
     },
     "execution_count": 7,
     "metadata": {},
     "output_type": "execute_result"
    }
   ],
   "source": [
    "a"
   ]
  },
  {
   "cell_type": "code",
   "execution_count": 8,
   "id": "cb68733e-021c-47f2-aa20-60785b15e0f1",
   "metadata": {},
   "outputs": [
    {
     "data": {
      "text/plain": [
       "int"
      ]
     },
     "execution_count": 8,
     "metadata": {},
     "output_type": "execute_result"
    }
   ],
   "source": [
    "type (a)"
   ]
  },
  {
   "cell_type": "code",
   "execution_count": 9,
   "id": "aa806ab4-c36f-4f95-9ffb-543c1380d9a8",
   "metadata": {},
   "outputs": [],
   "source": [
    "Rojin= 31"
   ]
  },
  {
   "cell_type": "code",
   "execution_count": 11,
   "id": "9327995d-463f-4f80-bcb2-2ce34b66d2a1",
   "metadata": {},
   "outputs": [
    {
     "data": {
      "text/plain": [
       "31"
      ]
     },
     "execution_count": 11,
     "metadata": {},
     "output_type": "execute_result"
    }
   ],
   "source": [
    "Rojin"
   ]
  },
  {
   "cell_type": "code",
   "execution_count": 13,
   "id": "543ef6fa-e02f-4222-b2ae-888e0fda5b5e",
   "metadata": {},
   "outputs": [
    {
     "data": {
      "text/plain": [
       "int"
      ]
     },
     "execution_count": 13,
     "metadata": {},
     "output_type": "execute_result"
    }
   ],
   "source": [
    "type(Rojin)"
   ]
  },
  {
   "cell_type": "code",
   "execution_count": 14,
   "id": "e4658521-0fef-42b3-a108-422ba27c9e63",
   "metadata": {},
   "outputs": [
    {
     "data": {
      "text/plain": [
       "41"
      ]
     },
     "execution_count": 14,
     "metadata": {},
     "output_type": "execute_result"
    }
   ],
   "source": [
    "a+Rojin"
   ]
  },
  {
   "cell_type": "code",
   "execution_count": 15,
   "id": "acc98652-17fd-4f51-8d4f-ac811adf5af2",
   "metadata": {},
   "outputs": [
    {
     "data": {
      "text/plain": [
       "int"
      ]
     },
     "execution_count": 15,
     "metadata": {},
     "output_type": "execute_result"
    }
   ],
   "source": [
    "type (a+ Rojin)"
   ]
  },
  {
   "cell_type": "code",
   "execution_count": 16,
   "id": "ae9bbba8-21a3-4ef8-8b3e-b48320f82806",
   "metadata": {},
   "outputs": [],
   "source": [
    "b = 2.09"
   ]
  },
  {
   "cell_type": "code",
   "execution_count": 17,
   "id": "c7d5ffba-88d8-49aa-9d09-996770cb267e",
   "metadata": {},
   "outputs": [
    {
     "data": {
      "text/plain": [
       "float"
      ]
     },
     "execution_count": 17,
     "metadata": {},
     "output_type": "execute_result"
    }
   ],
   "source": [
    "type (b)"
   ]
  },
  {
   "cell_type": "code",
   "execution_count": 18,
   "id": "1ae02370-9a52-4b71-8ca1-345d34f2da30",
   "metadata": {},
   "outputs": [],
   "source": [
    "c=45.2365899"
   ]
  },
  {
   "cell_type": "code",
   "execution_count": 19,
   "id": "02ac8a9e-d53f-4028-9947-5349ecb06920",
   "metadata": {},
   "outputs": [
    {
     "data": {
      "text/plain": [
       "float"
      ]
     },
     "execution_count": 19,
     "metadata": {},
     "output_type": "execute_result"
    }
   ],
   "source": [
    "type (c)"
   ]
  },
  {
   "cell_type": "code",
   "execution_count": 20,
   "id": "ac873293-4092-40e9-a342-d31f5b6722a4",
   "metadata": {},
   "outputs": [],
   "source": [
    "d=\"Rojin\""
   ]
  },
  {
   "cell_type": "code",
   "execution_count": 21,
   "id": "7fe3ce9c-0e58-468f-bddb-e2ddcb5ffb01",
   "metadata": {},
   "outputs": [
    {
     "data": {
      "text/plain": [
       "'Rojin'"
      ]
     },
     "execution_count": 21,
     "metadata": {},
     "output_type": "execute_result"
    }
   ],
   "source": [
    "d"
   ]
  },
  {
   "cell_type": "code",
   "execution_count": 22,
   "id": "863f05d3-0c3c-4728-b573-c3a19288e9e3",
   "metadata": {},
   "outputs": [
    {
     "data": {
      "text/plain": [
       "str"
      ]
     },
     "execution_count": 22,
     "metadata": {},
     "output_type": "execute_result"
    }
   ],
   "source": [
    "type (d)"
   ]
  },
  {
   "cell_type": "code",
   "execution_count": 23,
   "id": "e8642b83-4cf8-4ae9-9706-7f64b202f46b",
   "metadata": {},
   "outputs": [],
   "source": [
    "# str = string "
   ]
  },
  {
   "cell_type": "code",
   "execution_count": 24,
   "id": "11f5141f-f11c-46ee-997d-5bc8c28254c5",
   "metadata": {},
   "outputs": [],
   "source": [
    "e=\" This is my first class for Data science \""
   ]
  },
  {
   "cell_type": "code",
   "execution_count": 25,
   "id": "8359d9cd-65f0-4272-bdf7-8bc107aabe5d",
   "metadata": {},
   "outputs": [
    {
     "data": {
      "text/plain": [
       "' This is my first class for Data science '"
      ]
     },
     "execution_count": 25,
     "metadata": {},
     "output_type": "execute_result"
    }
   ],
   "source": [
    "e"
   ]
  },
  {
   "cell_type": "code",
   "execution_count": 39,
   "id": "fe4e4251-cb65-4cba-bad4-29041d04ee10",
   "metadata": {},
   "outputs": [
    {
     "data": {
      "text/plain": [
       "str"
      ]
     },
     "execution_count": 39,
     "metadata": {},
     "output_type": "execute_result"
    }
   ],
   "source": [
    "type (e)"
   ]
  },
  {
   "cell_type": "markdown",
   "id": "302fc3a1-6036-4b14-b096-58bfb0830961",
   "metadata": {},
   "source": [
    "Boolean Function "
   ]
  },
  {
   "cell_type": "code",
   "execution_count": 27,
   "id": "39afec6e-730e-4d92-9017-680584985bcd",
   "metadata": {},
   "outputs": [],
   "source": [
    "n= True"
   ]
  },
  {
   "cell_type": "code",
   "execution_count": 28,
   "id": "b11c29aa-8c7b-4f7e-b851-68aa6badbe04",
   "metadata": {},
   "outputs": [
    {
     "data": {
      "text/plain": [
       "bool"
      ]
     },
     "execution_count": 28,
     "metadata": {},
     "output_type": "execute_result"
    }
   ],
   "source": [
    "type (n)"
   ]
  },
  {
   "cell_type": "code",
   "execution_count": 29,
   "id": "2cae69a4-dd1a-40bb-a4a6-afc625980328",
   "metadata": {},
   "outputs": [],
   "source": [
    "# bool means boolean"
   ]
  },
  {
   "cell_type": "code",
   "execution_count": 30,
   "id": "80ea16f5-fe3f-4e1f-a023-35d9dc39b0e9",
   "metadata": {},
   "outputs": [],
   "source": [
    "m= False"
   ]
  },
  {
   "cell_type": "code",
   "execution_count": 31,
   "id": "a98f98a0-2ea4-475c-9b60-069d7f7d407b",
   "metadata": {},
   "outputs": [
    {
     "data": {
      "text/plain": [
       "bool"
      ]
     },
     "execution_count": 31,
     "metadata": {},
     "output_type": "execute_result"
    }
   ],
   "source": [
    "type (n)"
   ]
  },
  {
   "cell_type": "code",
   "execution_count": 32,
   "id": "7f18722a-3ee6-4cd4-a195-84a1c9b6d44f",
   "metadata": {},
   "outputs": [],
   "source": [
    "# True = 1 and False = 0"
   ]
  },
  {
   "cell_type": "code",
   "execution_count": 33,
   "id": "4296d5f5-db81-4ab2-8951-920074f3edb7",
   "metadata": {},
   "outputs": [
    {
     "data": {
      "text/plain": [
       "1"
      ]
     },
     "execution_count": 33,
     "metadata": {},
     "output_type": "execute_result"
    }
   ],
   "source": [
    "n+m"
   ]
  },
  {
   "cell_type": "code",
   "execution_count": 34,
   "id": "148181e6-7905-4e06-83cc-ffd7a96a98b0",
   "metadata": {},
   "outputs": [
    {
     "data": {
      "text/plain": [
       "1"
      ]
     },
     "execution_count": 34,
     "metadata": {},
     "output_type": "execute_result"
    }
   ],
   "source": [
    "True * True"
   ]
  },
  {
   "cell_type": "code",
   "execution_count": 35,
   "id": "180a54b9-ed72-43c6-baca-25f29f85bb6d",
   "metadata": {},
   "outputs": [
    {
     "data": {
      "text/plain": [
       "0"
      ]
     },
     "execution_count": 35,
     "metadata": {},
     "output_type": "execute_result"
    }
   ],
   "source": [
    "True * False"
   ]
  },
  {
   "cell_type": "code",
   "execution_count": 36,
   "id": "9440643b-386f-4a04-9250-e9ecc2d54419",
   "metadata": {},
   "outputs": [
    {
     "ename": "ZeroDivisionError",
     "evalue": "division by zero",
     "output_type": "error",
     "traceback": [
      "\u001b[0;31m---------------------------------------------------------------------------\u001b[0m",
      "\u001b[0;31mZeroDivisionError\u001b[0m                         Traceback (most recent call last)",
      "Cell \u001b[0;32mIn[36], line 1\u001b[0m\n\u001b[0;32m----> 1\u001b[0m \u001b[38;5;28;43;01mTrue\u001b[39;49;00m\u001b[43m \u001b[49m\u001b[38;5;241;43m/\u001b[39;49m\u001b[43m \u001b[49m\u001b[38;5;28;43;01mFalse\u001b[39;49;00m\n",
      "\u001b[0;31mZeroDivisionError\u001b[0m: division by zero"
     ]
    }
   ],
   "source": [
    "True / False"
   ]
  },
  {
   "cell_type": "code",
   "execution_count": 37,
   "id": "77fa42ea-2053-4da4-939b-0f91921f28c6",
   "metadata": {},
   "outputs": [
    {
     "ename": "ZeroDivisionError",
     "evalue": "division by zero",
     "output_type": "error",
     "traceback": [
      "\u001b[0;31m---------------------------------------------------------------------------\u001b[0m",
      "\u001b[0;31mZeroDivisionError\u001b[0m                         Traceback (most recent call last)",
      "Cell \u001b[0;32mIn[37], line 1\u001b[0m\n\u001b[0;32m----> 1\u001b[0m \u001b[38;5;241;43m1\u001b[39;49m\u001b[38;5;241;43m/\u001b[39;49m\u001b[38;5;241;43m0\u001b[39;49m\n",
      "\u001b[0;31mZeroDivisionError\u001b[0m: division by zero"
     ]
    }
   ],
   "source": [
    "1/0"
   ]
  },
  {
   "cell_type": "code",
   "execution_count": 38,
   "id": "d07e8e65-1387-4cc4-bc15-3759d854d804",
   "metadata": {},
   "outputs": [],
   "source": [
    "# core python if we divide by 0 or False its shows Errors."
   ]
  },
  {
   "cell_type": "markdown",
   "id": "807553be-2c97-4308-91b5-4d17118077fc",
   "metadata": {},
   "source": [
    "Complex number"
   ]
  },
  {
   "cell_type": "code",
   "execution_count": 40,
   "id": "4ab67d23-c9ab-42c9-b902-3908eb95e396",
   "metadata": {},
   "outputs": [],
   "source": [
    "v =5+8j"
   ]
  },
  {
   "cell_type": "code",
   "execution_count": 41,
   "id": "bbc05565-8315-4edf-81af-0cd66f9eff6e",
   "metadata": {},
   "outputs": [
    {
     "data": {
      "text/plain": [
       "complex"
      ]
     },
     "execution_count": 41,
     "metadata": {},
     "output_type": "execute_result"
    }
   ],
   "source": [
    "type (v)"
   ]
  },
  {
   "cell_type": "code",
   "execution_count": 44,
   "id": "37b12474-1b64-4a90-95e8-b7a8c812e8f9",
   "metadata": {},
   "outputs": [
    {
     "ename": "SyntaxError",
     "evalue": "invalid decimal literal (4235680501.py, line 1)",
     "output_type": "error",
     "traceback": [
      "\u001b[0;36m  Cell \u001b[0;32mIn[44], line 1\u001b[0;36m\u001b[0m\n\u001b[0;31m    w = 8+ 7i\u001b[0m\n\u001b[0m           ^\u001b[0m\n\u001b[0;31mSyntaxError\u001b[0m\u001b[0;31m:\u001b[0m invalid decimal literal\n"
     ]
    }
   ],
   "source": [
    "w = 8+ 7i"
   ]
  },
  {
   "cell_type": "code",
   "execution_count": 45,
   "id": "046c035d-aba3-4be9-90d9-da9122b7e0bd",
   "metadata": {},
   "outputs": [],
   "source": [
    "w = 8+ 5j"
   ]
  },
  {
   "cell_type": "code",
   "execution_count": 46,
   "id": "46a55653-1269-467b-bcba-59fbf1074ba2",
   "metadata": {},
   "outputs": [
    {
     "data": {
      "text/plain": [
       "complex"
      ]
     },
     "execution_count": 46,
     "metadata": {},
     "output_type": "execute_result"
    }
   ],
   "source": [
    "type (w)"
   ]
  },
  {
   "cell_type": "code",
   "execution_count": 47,
   "id": "53ac7126-bb6a-4e1a-91ba-7e8dd802a510",
   "metadata": {},
   "outputs": [],
   "source": [
    "# In python, Python understand Complex number J (J is a  imaginary number) if we try with I as a imaginary number its Shows error."
   ]
  },
  {
   "cell_type": "code",
   "execution_count": 48,
   "id": "ae20e444-f03d-454c-ae59-5440f668e8c9",
   "metadata": {},
   "outputs": [
    {
     "data": {
      "text/plain": [
       "(5+8j)"
      ]
     },
     "execution_count": 48,
     "metadata": {},
     "output_type": "execute_result"
    }
   ],
   "source": [
    "v"
   ]
  },
  {
   "cell_type": "code",
   "execution_count": 49,
   "id": "e0e9be97-0a4b-4c08-8b64-82263cd62a08",
   "metadata": {},
   "outputs": [
    {
     "data": {
      "text/plain": [
       "complex"
      ]
     },
     "execution_count": 49,
     "metadata": {},
     "output_type": "execute_result"
    }
   ],
   "source": [
    "type (v)"
   ]
  },
  {
   "cell_type": "markdown",
   "id": "7fcb5b72-3227-4a75-abd6-c8d687c1ee86",
   "metadata": {},
   "source": [
    "Real Fuction "
   ]
  },
  {
   "cell_type": "code",
   "execution_count": 52,
   "id": "24cf541e-bf93-407b-b20f-3d4c749042e2",
   "metadata": {},
   "outputs": [
    {
     "data": {
      "text/plain": [
       "5.0"
      ]
     },
     "execution_count": 52,
     "metadata": {},
     "output_type": "execute_result"
    }
   ],
   "source": [
    "v.real"
   ]
  },
  {
   "cell_type": "code",
   "execution_count": 53,
   "id": "357ed3bc-2966-440f-b010-095ad89f2d59",
   "metadata": {},
   "outputs": [],
   "source": [
    "# v = 5+8j  when you use \".real \" fuction  its show result of real value."
   ]
  },
  {
   "cell_type": "markdown",
   "id": "f80c9598-fe28-4de9-a30a-641552d19661",
   "metadata": {},
   "source": [
    "Imaginary Fuction "
   ]
  },
  {
   "cell_type": "code",
   "execution_count": 54,
   "id": "a4111b59-aa0f-4bb4-97d7-29a1c156e3c8",
   "metadata": {},
   "outputs": [],
   "source": [
    "Rojin = 5+8j"
   ]
  },
  {
   "cell_type": "code",
   "execution_count": 55,
   "id": "14db96ba-cf17-4e1b-b6d2-08d7a49f1444",
   "metadata": {},
   "outputs": [
    {
     "data": {
      "text/plain": [
       "8.0"
      ]
     },
     "execution_count": 55,
     "metadata": {},
     "output_type": "execute_result"
    }
   ],
   "source": [
    "Rojin.imag"
   ]
  },
  {
   "cell_type": "code",
   "execution_count": 56,
   "id": "393233ca-3c3e-4a55-9ddd-6db8f51fcf1a",
   "metadata": {},
   "outputs": [],
   "source": [
    "# Rojin =5+8j when you use \" .imag \" function its show the result of Imaginary component."
   ]
  },
  {
   "cell_type": "markdown",
   "id": "f2d97d44-597a-46cd-864f-d17fd19b6606",
   "metadata": {},
   "source": [
    "PRINT FUNCTION"
   ]
  },
  {
   "cell_type": "code",
   "execution_count": 57,
   "id": "42c88cb9-4d7f-479e-aa68-855f977e3d43",
   "metadata": {},
   "outputs": [
    {
     "name": "stdout",
     "output_type": "stream",
     "text": [
      " My name is Rojin \n"
     ]
    }
   ],
   "source": [
    "print ( \" My name is Rojin \")"
   ]
  },
  {
   "cell_type": "code",
   "execution_count": 58,
   "id": "1e74abd6-1586-4577-a723-414402306c93",
   "metadata": {},
   "outputs": [
    {
     "name": "stdout",
     "output_type": "stream",
     "text": [
      "10\n"
     ]
    }
   ],
   "source": [
    "print (a)"
   ]
  },
  {
   "cell_type": "code",
   "execution_count": 59,
   "id": "737d746f-5b26-412b-8e25-e2baa3f8a5ea",
   "metadata": {},
   "outputs": [
    {
     "name": "stdout",
     "output_type": "stream",
     "text": [
      "(5+8j)\n"
     ]
    }
   ],
   "source": [
    "print ( Rojin)"
   ]
  },
  {
   "cell_type": "code",
   "execution_count": 64,
   "id": "47734108-875d-452c-9537-29d2ae206429",
   "metadata": {},
   "outputs": [],
   "source": [
    "# Print function is used for print the variable / string value result in consol . \"Consol meaning output \""
   ]
  },
  {
   "cell_type": "code",
   "execution_count": 65,
   "id": "ec7086ce-4d2d-459e-b44e-bc37d0eb04bc",
   "metadata": {},
   "outputs": [],
   "source": [
    "s=\" Rojinvarghese\""
   ]
  },
  {
   "cell_type": "code",
   "execution_count": 66,
   "id": "cae89119-13f8-42cf-99eb-91a1f0bd02d1",
   "metadata": {},
   "outputs": [
    {
     "ename": "TypeError",
     "evalue": "'str' object is not callable",
     "output_type": "error",
     "traceback": [
      "\u001b[0;31m---------------------------------------------------------------------------\u001b[0m",
      "\u001b[0;31mTypeError\u001b[0m                                 Traceback (most recent call last)",
      "Cell \u001b[0;32mIn[66], line 1\u001b[0m\n\u001b[0;32m----> 1\u001b[0m \u001b[38;5;28;43mtype\u001b[39;49m\u001b[43m(\u001b[49m\u001b[43ms\u001b[49m\u001b[43m)\u001b[49m\n",
      "\u001b[0;31mTypeError\u001b[0m: 'str' object is not callable"
     ]
    }
   ],
   "source": [
    "type(s)"
   ]
  },
  {
   "cell_type": "code",
   "execution_count": 67,
   "id": "1195c35b-6318-47c3-b672-b54df23a6976",
   "metadata": {},
   "outputs": [
    {
     "data": {
      "text/plain": [
       "(5+8j)"
      ]
     },
     "execution_count": 67,
     "metadata": {},
     "output_type": "execute_result"
    }
   ],
   "source": [
    "Rojin"
   ]
  },
  {
   "cell_type": "code",
   "execution_count": 68,
   "id": "ab8e907b-2b6b-48d9-8124-c24c475fbad5",
   "metadata": {},
   "outputs": [],
   "source": [
    "W = \" rojinvarghese\""
   ]
  },
  {
   "cell_type": "code",
   "execution_count": 69,
   "id": "270b9068-26a8-4f4f-adb4-e4669de7a9da",
   "metadata": {},
   "outputs": [
    {
     "data": {
      "text/plain": [
       "' rojinvarghese'"
      ]
     },
     "execution_count": 69,
     "metadata": {},
     "output_type": "execute_result"
    }
   ],
   "source": [
    "W"
   ]
  },
  {
   "cell_type": "code",
   "execution_count": 71,
   "id": "7c942723-1026-4dbf-a140-b00d6f7ca6de",
   "metadata": {},
   "outputs": [
    {
     "data": {
      "text/plain": [
       "' '"
      ]
     },
     "execution_count": 71,
     "metadata": {},
     "output_type": "execute_result"
    }
   ],
   "source": [
    "W[0]"
   ]
  },
  {
   "cell_type": "code",
   "execution_count": 72,
   "id": "d4002bcb-7d5c-4594-aeac-ca150276932a",
   "metadata": {},
   "outputs": [
    {
     "data": {
      "text/plain": [
       "'r'"
      ]
     },
     "execution_count": 72,
     "metadata": {},
     "output_type": "execute_result"
    }
   ],
   "source": [
    "W[1]"
   ]
  },
  {
   "cell_type": "code",
   "execution_count": 73,
   "id": "19e337b0-e59b-4c73-a040-8dbb63c9b9fc",
   "metadata": {},
   "outputs": [
    {
     "data": {
      "text/plain": [
       "'h'"
      ]
     },
     "execution_count": 73,
     "metadata": {},
     "output_type": "execute_result"
    }
   ],
   "source": [
    "W[10]"
   ]
  },
  {
   "cell_type": "code",
   "execution_count": 74,
   "id": "65dbb513-f2be-4fec-827b-40902fa28f27",
   "metadata": {},
   "outputs": [
    {
     "data": {
      "text/plain": [
       "'a'"
      ]
     },
     "execution_count": 74,
     "metadata": {},
     "output_type": "execute_result"
    }
   ],
   "source": [
    "W[7]"
   ]
  },
  {
   "cell_type": "code",
   "execution_count": 75,
   "id": "eed8bb16-be38-46cc-b1f4-8da5961aabda",
   "metadata": {},
   "outputs": [
    {
     "data": {
      "text/plain": [
       "' rojinvarghese'"
      ]
     },
     "execution_count": 75,
     "metadata": {},
     "output_type": "execute_result"
    }
   ],
   "source": [
    "W"
   ]
  },
  {
   "cell_type": "code",
   "execution_count": 76,
   "id": "faf0b9fc-80f9-40c7-8662-1eea18c0273b",
   "metadata": {},
   "outputs": [
    {
     "data": {
      "text/plain": [
       "'h'"
      ]
     },
     "execution_count": 76,
     "metadata": {},
     "output_type": "execute_result"
    }
   ],
   "source": [
    "W[10]"
   ]
  },
  {
   "cell_type": "code",
   "execution_count": 77,
   "id": "3283bb2b-5c20-47e1-bb07-81c3859fbf07",
   "metadata": {},
   "outputs": [
    {
     "data": {
      "text/plain": [
       "'s'"
      ]
     },
     "execution_count": 77,
     "metadata": {},
     "output_type": "execute_result"
    }
   ],
   "source": [
    "W[12]"
   ]
  },
  {
   "cell_type": "code",
   "execution_count": 78,
   "id": "6a092f68-8e40-4e68-b52c-330f53402366",
   "metadata": {},
   "outputs": [
    {
     "data": {
      "text/plain": [
       "'s'"
      ]
     },
     "execution_count": 78,
     "metadata": {},
     "output_type": "execute_result"
    }
   ],
   "source": [
    "W[-2]"
   ]
  },
  {
   "cell_type": "code",
   "execution_count": 79,
   "id": "f556b4cd-1291-4862-b0be-d3fc9da6e44f",
   "metadata": {},
   "outputs": [
    {
     "data": {
      "text/plain": [
       "' rojinvarghese'"
      ]
     },
     "execution_count": 79,
     "metadata": {},
     "output_type": "execute_result"
    }
   ],
   "source": [
    "W"
   ]
  },
  {
   "cell_type": "markdown",
   "id": "dff4d778-5d42-48f9-9ee6-e80c85fc658f",
   "metadata": {},
   "source": [
    "Print roj "
   ]
  },
  {
   "cell_type": "code",
   "execution_count": 80,
   "id": "83f7828a-120b-4abe-b20f-6a9b8e0e38a7",
   "metadata": {},
   "outputs": [
    {
     "data": {
      "text/plain": [
       "' roj'"
      ]
     },
     "execution_count": 80,
     "metadata": {},
     "output_type": "execute_result"
    }
   ],
   "source": [
    "W[0:4]"
   ]
  },
  {
   "cell_type": "code",
   "execution_count": 81,
   "id": "2d4f1493-3518-44b9-8731-2c151162470d",
   "metadata": {},
   "outputs": [
    {
     "data": {
      "text/plain": [
       "' ro'"
      ]
     },
     "execution_count": 81,
     "metadata": {},
     "output_type": "execute_result"
    }
   ],
   "source": [
    "W[0:3]"
   ]
  },
  {
   "cell_type": "code",
   "execution_count": 82,
   "id": "681bac02-a878-4e5e-9d76-e816f45014b3",
   "metadata": {},
   "outputs": [
    {
     "data": {
      "text/plain": [
       "' rojinv'"
      ]
     },
     "execution_count": 82,
     "metadata": {},
     "output_type": "execute_result"
    }
   ],
   "source": [
    "W[0:7]"
   ]
  },
  {
   "cell_type": "code",
   "execution_count": 83,
   "id": "53396910-b46f-409c-a933-4c4b4ebb4a51",
   "metadata": {},
   "outputs": [
    {
     "data": {
      "text/plain": [
       "' '"
      ]
     },
     "execution_count": 83,
     "metadata": {},
     "output_type": "execute_result"
    }
   ],
   "source": [
    "W[0:1:13]"
   ]
  },
  {
   "cell_type": "code",
   "execution_count": null,
   "id": "05fc33f3-cdc6-48e4-9d65-3a24c5ba0fda",
   "metadata": {},
   "outputs": [],
   "source": [
    "Print rjnagee"
   ]
  },
  {
   "cell_type": "code",
   "execution_count": 84,
   "id": "fd47094a-a64c-400b-a788-13646fb5708d",
   "metadata": {},
   "outputs": [
    {
     "data": {
      "text/plain": [
       "' oivrhs'"
      ]
     },
     "execution_count": 84,
     "metadata": {},
     "output_type": "execute_result"
    }
   ],
   "source": [
    "W[0:14:2]"
   ]
  },
  {
   "cell_type": "code",
   "execution_count": 85,
   "id": "b33049b3-f461-47ca-afca-beeb4cc2c520",
   "metadata": {},
   "outputs": [
    {
     "data": {
      "text/plain": [
       "' rojinvarghese'"
      ]
     },
     "execution_count": 85,
     "metadata": {},
     "output_type": "execute_result"
    }
   ],
   "source": [
    "W[0:14:1]"
   ]
  },
  {
   "cell_type": "code",
   "execution_count": 86,
   "id": "c89a7443-4b9a-4c9f-a11d-b417c799cbe3",
   "metadata": {},
   "outputs": [
    {
     "data": {
      "text/plain": [
       "' oivrhs'"
      ]
     },
     "execution_count": 86,
     "metadata": {},
     "output_type": "execute_result"
    }
   ],
   "source": [
    "W[0:14:2]"
   ]
  },
  {
   "cell_type": "code",
   "execution_count": 87,
   "id": "5de92f35-4ed6-4725-9aa3-52f56c7e0431",
   "metadata": {},
   "outputs": [
    {
     "data": {
      "text/plain": [
       "'rjnagee'"
      ]
     },
     "execution_count": 87,
     "metadata": {},
     "output_type": "execute_result"
    }
   ],
   "source": [
    "W[1:14:2]"
   ]
  },
  {
   "cell_type": "markdown",
   "id": "c89f6528-0a91-48d0-8049-0d24ce5704af",
   "metadata": {},
   "source": [
    "JUMP function"
   ]
  },
  {
   "cell_type": "code",
   "execution_count": 88,
   "id": "94afe432-4fc9-4f0d-9d9e-55891e66a1bb",
   "metadata": {},
   "outputs": [
    {
     "data": {
      "text/plain": [
       "'rjnagee'"
      ]
     },
     "execution_count": 88,
     "metadata": {},
     "output_type": "execute_result"
    }
   ],
   "source": [
    "W[1::2]"
   ]
  },
  {
   "cell_type": "markdown",
   "id": "7ced0a7e-1269-46a8-aba3-1e19c96059fe",
   "metadata": {},
   "source": [
    "Print in reverse direction"
   ]
  },
  {
   "cell_type": "code",
   "execution_count": 89,
   "id": "408483e0-b16c-40d0-9333-5450d1f2fc73",
   "metadata": {},
   "outputs": [
    {
     "data": {
      "text/plain": [
       "'esehgravnijor '"
      ]
     },
     "execution_count": 89,
     "metadata": {},
     "output_type": "execute_result"
    }
   ],
   "source": [
    "W[::-1]"
   ]
  },
  {
   "cell_type": "code",
   "execution_count": 90,
   "id": "3d8ef4e3-127a-40a6-b6d4-7d0f514605b3",
   "metadata": {},
   "outputs": [
    {
     "data": {
      "text/plain": [
       "''"
      ]
     },
     "execution_count": 90,
     "metadata": {},
     "output_type": "execute_result"
    }
   ],
   "source": [
    "W[2:14:-1]"
   ]
  },
  {
   "cell_type": "code",
   "execution_count": 91,
   "id": "ab871eed-a68a-4420-a005-e69ea97f74aa",
   "metadata": {},
   "outputs": [
    {
     "data": {
      "text/plain": [
       "''"
      ]
     },
     "execution_count": 91,
     "metadata": {},
     "output_type": "execute_result"
    }
   ],
   "source": [
    "W[14:0]"
   ]
  },
  {
   "cell_type": "code",
   "execution_count": 92,
   "id": "76c9362e-4dd0-453e-9e0b-782df4e0b2f0",
   "metadata": {},
   "outputs": [
    {
     "data": {
      "text/plain": [
       "'esehgravnijor'"
      ]
     },
     "execution_count": 92,
     "metadata": {},
     "output_type": "execute_result"
    }
   ],
   "source": [
    "W[14:0:-1]"
   ]
  },
  {
   "cell_type": "code",
   "execution_count": 93,
   "id": "42897cbe-d995-49d4-b782-89bd45a652d6",
   "metadata": {},
   "outputs": [
    {
     "data": {
      "text/plain": [
       "''"
      ]
     },
     "execution_count": 93,
     "metadata": {},
     "output_type": "execute_result"
    }
   ],
   "source": [
    "W[-2:-14:1]"
   ]
  },
  {
   "cell_type": "code",
   "execution_count": 94,
   "id": "1cc9209c-b93f-473f-9303-44f90be181e5",
   "metadata": {},
   "outputs": [
    {
     "data": {
      "text/plain": [
       "'esehgravnijor '"
      ]
     },
     "execution_count": 94,
     "metadata": {},
     "output_type": "execute_result"
    }
   ],
   "source": [
    "W[::-1]"
   ]
  },
  {
   "cell_type": "code",
   "execution_count": 96,
   "id": "bf656671-4f2c-4add-94b0-119beb6e0ea2",
   "metadata": {},
   "outputs": [
    {
     "data": {
      "text/plain": [
       "' rojinvarghese'"
      ]
     },
     "execution_count": 96,
     "metadata": {},
     "output_type": "execute_result"
    }
   ],
   "source": [
    "W[::1]"
   ]
  },
  {
   "cell_type": "code",
   "execution_count": 97,
   "id": "56449aa2-5dda-4faf-9a09-ba3f8452661a",
   "metadata": {},
   "outputs": [
    {
     "data": {
      "text/plain": [
       "''"
      ]
     },
     "execution_count": 97,
     "metadata": {},
     "output_type": "execute_result"
    }
   ],
   "source": [
    "W[:-90:]"
   ]
  },
  {
   "cell_type": "code",
   "execution_count": 98,
   "id": "389081ff-6c7e-4616-8d06-e62138928ecd",
   "metadata": {},
   "outputs": [
    {
     "ename": "IndexError",
     "evalue": "string index out of range",
     "output_type": "error",
     "traceback": [
      "\u001b[0;31m---------------------------------------------------------------------------\u001b[0m",
      "\u001b[0;31mIndexError\u001b[0m                                Traceback (most recent call last)",
      "Cell \u001b[0;32mIn[98], line 1\u001b[0m\n\u001b[0;32m----> 1\u001b[0m \u001b[43mW\u001b[49m\u001b[43m[\u001b[49m\u001b[38;5;241;43m90\u001b[39;49m\u001b[43m]\u001b[49m\n",
      "\u001b[0;31mIndexError\u001b[0m: string index out of range"
     ]
    }
   ],
   "source": [
    "W[90]"
   ]
  },
  {
   "cell_type": "code",
   "execution_count": 99,
   "id": "2950cbb4-d2f6-489c-aaf5-28756651f2e8",
   "metadata": {},
   "outputs": [
    {
     "data": {
      "text/plain": [
       "'esehgravnijor '"
      ]
     },
     "execution_count": 99,
     "metadata": {},
     "output_type": "execute_result"
    }
   ],
   "source": [
    "W[:-90:-1]"
   ]
  },
  {
   "cell_type": "code",
   "execution_count": 100,
   "id": "39130552-4b2e-4941-8041-57ef2f896c13",
   "metadata": {},
   "outputs": [
    {
     "data": {
      "text/plain": [
       "'esehgravnijor '"
      ]
     },
     "execution_count": 100,
     "metadata": {},
     "output_type": "execute_result"
    }
   ],
   "source": [
    "W[:-9000:-1]"
   ]
  },
  {
   "cell_type": "code",
   "execution_count": 101,
   "id": "73d27e01-c529-46d7-bbd9-e74fe6a01c4b",
   "metadata": {},
   "outputs": [],
   "source": [
    "c=200"
   ]
  },
  {
   "cell_type": "code",
   "execution_count": 102,
   "id": "dec14f4a-3d0e-47f1-bfa5-432231e5eb03",
   "metadata": {},
   "outputs": [],
   "source": [
    "s1 = \"this is my string Class\""
   ]
  },
  {
   "cell_type": "code",
   "execution_count": 103,
   "id": "4c88d5a6-108b-48b4-ae8a-53d9c0b4adf2",
   "metadata": {},
   "outputs": [
    {
     "data": {
      "text/plain": [
       "'this is my string Class'"
      ]
     },
     "execution_count": 103,
     "metadata": {},
     "output_type": "execute_result"
    }
   ],
   "source": [
    "s1"
   ]
  },
  {
   "cell_type": "code",
   "execution_count": 105,
   "id": "08bdce85-96a0-4b36-9040-d0a341c81420",
   "metadata": {},
   "outputs": [],
   "source": [
    "# finding the length of the String "
   ]
  },
  {
   "cell_type": "code",
   "execution_count": 104,
   "id": "f6c4aef4-b5d7-4e11-9cac-6c806b93453f",
   "metadata": {},
   "outputs": [
    {
     "data": {
      "text/plain": [
       "23"
      ]
     },
     "execution_count": 104,
     "metadata": {},
     "output_type": "execute_result"
    }
   ],
   "source": [
    "len(s1)"
   ]
  },
  {
   "cell_type": "markdown",
   "id": "78397662-1eac-4a07-84d1-c540e9996e99",
   "metadata": {},
   "source": [
    "Find Fuction "
   ]
  },
  {
   "cell_type": "code",
   "execution_count": 106,
   "id": "4296a148-43a1-4c30-9435-0467cbef485c",
   "metadata": {},
   "outputs": [
    {
     "data": {
      "text/plain": [
       "3"
      ]
     },
     "execution_count": 106,
     "metadata": {},
     "output_type": "execute_result"
    }
   ],
   "source": [
    "s1.find('s')"
   ]
  },
  {
   "cell_type": "code",
   "execution_count": 107,
   "id": "1e4ded7d-cbd7-47c7-8e78-9c61a8cc9334",
   "metadata": {},
   "outputs": [],
   "source": [
    "# Find function using for find Index in string "
   ]
  },
  {
   "cell_type": "code",
   "execution_count": 109,
   "id": "3fa18d1f-b3a1-4dfb-be51-3371d3c35eb8",
   "metadata": {},
   "outputs": [
    {
     "data": {
      "text/plain": [
       "2"
      ]
     },
     "execution_count": 109,
     "metadata": {},
     "output_type": "execute_result"
    }
   ],
   "source": [
    "s1.find('i')"
   ]
  },
  {
   "cell_type": "code",
   "execution_count": 110,
   "id": "9804cae5-f104-42c7-916d-c61cd9d26bc4",
   "metadata": {},
   "outputs": [
    {
     "data": {
      "text/plain": [
       "2"
      ]
     },
     "execution_count": 110,
     "metadata": {},
     "output_type": "execute_result"
    }
   ],
   "source": [
    "s1.find('is')"
   ]
  },
  {
   "cell_type": "code",
   "execution_count": 111,
   "id": "1e3add76-35b6-4589-bfd0-0cc59c995ac7",
   "metadata": {},
   "outputs": [
    {
     "data": {
      "text/plain": [
       "'this is my string Class'"
      ]
     },
     "execution_count": 111,
     "metadata": {},
     "output_type": "execute_result"
    }
   ],
   "source": [
    "s1"
   ]
  },
  {
   "cell_type": "code",
   "execution_count": 112,
   "id": "82ed3bb3-f184-479f-8845-a7ab3085d054",
   "metadata": {},
   "outputs": [
    {
     "data": {
      "text/plain": [
       "11"
      ]
     },
     "execution_count": 112,
     "metadata": {},
     "output_type": "execute_result"
    }
   ],
   "source": [
    "s1.find(\"st\")"
   ]
  },
  {
   "cell_type": "code",
   "execution_count": 113,
   "id": "00d5f641-6ec5-40da-abde-53a3a0f7019f",
   "metadata": {},
   "outputs": [
    {
     "data": {
      "text/plain": [
       "-1"
      ]
     },
     "execution_count": 113,
     "metadata": {},
     "output_type": "execute_result"
    }
   ],
   "source": [
    "s1.find(\"iS\")"
   ]
  },
  {
   "cell_type": "code",
   "execution_count": 114,
   "id": "8de76ec8-c12b-4087-87a9-a240b50fc45d",
   "metadata": {},
   "outputs": [],
   "source": [
    "# -1 because not able to find the String \"iS\" if it was \"is\" it will find easily."
   ]
  },
  {
   "cell_type": "markdown",
   "id": "b41e5429-0d2d-4393-89da-93eee1baada2",
   "metadata": {},
   "source": [
    "Count Fuction "
   ]
  },
  {
   "cell_type": "code",
   "execution_count": 115,
   "id": "813fbb85-8a67-4597-a949-bef70b2bbd8b",
   "metadata": {},
   "outputs": [
    {
     "data": {
      "text/plain": [
       "5"
      ]
     },
     "execution_count": 115,
     "metadata": {},
     "output_type": "execute_result"
    }
   ],
   "source": [
    "s1.count(\"s\")"
   ]
  },
  {
   "cell_type": "code",
   "execution_count": 116,
   "id": "a35cd6dd-46cf-4183-b7c2-bee6a4be5f16",
   "metadata": {},
   "outputs": [
    {
     "data": {
      "text/plain": [
       "1"
      ]
     },
     "execution_count": 116,
     "metadata": {},
     "output_type": "execute_result"
    }
   ],
   "source": [
    "s1.count(\"st\")"
   ]
  },
  {
   "cell_type": "code",
   "execution_count": 117,
   "id": "1177f523-6e3d-41cb-9dcb-2d971e94ee9b",
   "metadata": {},
   "outputs": [
    {
     "data": {
      "text/plain": [
       "0"
      ]
     },
     "execution_count": 117,
     "metadata": {},
     "output_type": "execute_result"
    }
   ],
   "source": [
    "s1.count(\"z\")"
   ]
  },
  {
   "cell_type": "code",
   "execution_count": 118,
   "id": "28006aaf-b9eb-4827-be69-401ff1d36f7d",
   "metadata": {},
   "outputs": [],
   "source": [
    "# 0 because in string thr is no Word available of Z ."
   ]
  },
  {
   "cell_type": "code",
   "execution_count": 119,
   "id": "85286c3b-42d4-4ffb-b2ef-1028fcfd8347",
   "metadata": {},
   "outputs": [
    {
     "data": {
      "text/plain": [
       "'this is my string Class'"
      ]
     },
     "execution_count": 119,
     "metadata": {},
     "output_type": "execute_result"
    }
   ],
   "source": [
    "s1"
   ]
  },
  {
   "cell_type": "markdown",
   "id": "f1c1517d-d76d-4c1e-a0a8-bd87245b140a",
   "metadata": {},
   "source": [
    "UPPER Function"
   ]
  },
  {
   "cell_type": "code",
   "execution_count": 120,
   "id": "a346271f-bbb8-4e8e-b354-00c527e78c8d",
   "metadata": {},
   "outputs": [
    {
     "data": {
      "text/plain": [
       "'THIS IS MY STRING CLASS'"
      ]
     },
     "execution_count": 120,
     "metadata": {},
     "output_type": "execute_result"
    }
   ],
   "source": [
    "s1.upper()"
   ]
  },
  {
   "cell_type": "code",
   "execution_count": 121,
   "id": "abc4819d-b684-47ea-82d9-a1614ca5b6bd",
   "metadata": {},
   "outputs": [],
   "source": [
    "s2=\"THIS IS MY STRING CLASS\""
   ]
  },
  {
   "cell_type": "code",
   "execution_count": 122,
   "id": "c33df0a7-b1cb-4e81-88fd-330efef1a6b0",
   "metadata": {},
   "outputs": [
    {
     "data": {
      "text/plain": [
       "'THIS IS MY STRING CLASS'"
      ]
     },
     "execution_count": 122,
     "metadata": {},
     "output_type": "execute_result"
    }
   ],
   "source": [
    "s2"
   ]
  },
  {
   "cell_type": "markdown",
   "id": "e221ac61-a7e3-4325-b175-a3e7920bf7de",
   "metadata": {},
   "source": [
    "LOWER function"
   ]
  },
  {
   "cell_type": "code",
   "execution_count": 123,
   "id": "24531d99-30b6-4c4d-b7b8-79a6d597dcec",
   "metadata": {},
   "outputs": [
    {
     "data": {
      "text/plain": [
       "'this is my string class'"
      ]
     },
     "execution_count": 123,
     "metadata": {},
     "output_type": "execute_result"
    }
   ],
   "source": [
    "s2.lower()"
   ]
  },
  {
   "cell_type": "markdown",
   "id": "7011d797-30e7-44de-91e7-7bcb2c56c61b",
   "metadata": {},
   "source": [
    "Title Function "
   ]
  },
  {
   "cell_type": "code",
   "execution_count": 124,
   "id": "09e06f16-747e-423b-84a1-fc08b01b087b",
   "metadata": {},
   "outputs": [
    {
     "data": {
      "text/plain": [
       "'This Is My String Class'"
      ]
     },
     "execution_count": 124,
     "metadata": {},
     "output_type": "execute_result"
    }
   ],
   "source": [
    "s1.title()"
   ]
  },
  {
   "cell_type": "code",
   "execution_count": 125,
   "id": "d67cf2f5-99f3-4c06-b5f1-c6c0c6b29656",
   "metadata": {},
   "outputs": [],
   "source": [
    "# title will change every word first letter will be Capital."
   ]
  },
  {
   "cell_type": "markdown",
   "id": "6658d8f8-a032-4e72-a1b2-582a66d1c729",
   "metadata": {},
   "source": [
    "Capitalize Function "
   ]
  },
  {
   "cell_type": "code",
   "execution_count": 126,
   "id": "bd36f783-bce8-4bd4-8888-6d7879eba317",
   "metadata": {},
   "outputs": [
    {
     "data": {
      "text/plain": [
       "'This is my string class'"
      ]
     },
     "execution_count": 126,
     "metadata": {},
     "output_type": "execute_result"
    }
   ],
   "source": [
    "s1.capitalize()"
   ]
  },
  {
   "cell_type": "code",
   "execution_count": 127,
   "id": "e68dbcfb-f8aa-4dee-8e84-f802adfbc5b5",
   "metadata": {},
   "outputs": [],
   "source": [
    "# Capitalize function will do first letter capital remaining will be small ."
   ]
  },
  {
   "cell_type": "code",
   "execution_count": 128,
   "id": "38add544-764b-42e4-929e-84dd3930e753",
   "metadata": {},
   "outputs": [
    {
     "data": {
      "text/plain": [
       "' Rojinvarghese'"
      ]
     },
     "execution_count": 128,
     "metadata": {},
     "output_type": "execute_result"
    }
   ],
   "source": [
    "s"
   ]
  },
  {
   "cell_type": "code",
   "execution_count": 129,
   "id": "cf600895-6749-4ee8-969b-928ec723ca3e",
   "metadata": {},
   "outputs": [
    {
     "ename": "TypeError",
     "evalue": "can only concatenate str (not \"int\") to str",
     "output_type": "error",
     "traceback": [
      "\u001b[0;31m---------------------------------------------------------------------------\u001b[0m",
      "\u001b[0;31mTypeError\u001b[0m                                 Traceback (most recent call last)",
      "Cell \u001b[0;32mIn[129], line 1\u001b[0m\n\u001b[0;32m----> 1\u001b[0m \u001b[43ms\u001b[49m\u001b[38;5;241;43m+\u001b[39;49m\u001b[38;5;241;43m1\u001b[39;49m\n",
      "\u001b[0;31mTypeError\u001b[0m: can only concatenate str (not \"int\") to str"
     ]
    }
   ],
   "source": [
    "s+1"
   ]
  },
  {
   "cell_type": "code",
   "execution_count": 145,
   "id": "954da79a-79ff-4dff-afc1-847dba5d004d",
   "metadata": {},
   "outputs": [
    {
     "data": {
      "text/plain": [
       "'ERROR because we try to add string + interger \\n if we add string + string is show result \\n or if we add integer + interger is show result.'"
      ]
     },
     "execution_count": 145,
     "metadata": {},
     "output_type": "execute_result"
    }
   ],
   "source": [
    "#ERROR because we try to add string + interger \n",
    " # if we add string + string is show result \n",
    " # or if we add integer + interger is show result."
   ]
  },
  {
   "cell_type": "code",
   "execution_count": 132,
   "id": "2b2fad68-d7c5-4742-b264-500c0e603ed5",
   "metadata": {},
   "outputs": [
    {
     "data": {
      "text/plain": [
       "' Rojinvarghese thomas'"
      ]
     },
     "execution_count": 132,
     "metadata": {},
     "output_type": "execute_result"
    }
   ],
   "source": [
    "s+\" thomas\""
   ]
  },
  {
   "cell_type": "code",
   "execution_count": 133,
   "id": "6016de76-7236-4265-aff0-d9066b06dff2",
   "metadata": {},
   "outputs": [
    {
     "data": {
      "text/plain": [
       "' Rojinvarghese Rojinvarghese Rojinvarghese'"
      ]
     },
     "execution_count": 133,
     "metadata": {},
     "output_type": "execute_result"
    }
   ],
   "source": [
    "s*3"
   ]
  },
  {
   "cell_type": "code",
   "execution_count": 135,
   "id": "017a6a23-4767-4b58-b8b0-d18265eee0e1",
   "metadata": {},
   "outputs": [
    {
     "data": {
      "text/plain": [
       "'thomasthomasthomas'"
      ]
     },
     "execution_count": 135,
     "metadata": {},
     "output_type": "execute_result"
    }
   ],
   "source": [
    "'thomas' *3"
   ]
  },
  {
   "cell_type": "code",
   "execution_count": 136,
   "id": "8f805101-0f25-422e-bff4-ef0e436e7838",
   "metadata": {},
   "outputs": [
    {
     "data": {
      "text/plain": [
       "' Rojinvarghese Rojinvarghese Rojinvarghese'"
      ]
     },
     "execution_count": 136,
     "metadata": {},
     "output_type": "execute_result"
    }
   ],
   "source": [
    "s*3"
   ]
  },
  {
   "cell_type": "code",
   "execution_count": 137,
   "id": "424f6cd4-86c3-44a7-806d-93eae0e799f6",
   "metadata": {},
   "outputs": [
    {
     "ename": "TypeError",
     "evalue": "unsupported operand type(s) for /: 'str' and 'int'",
     "output_type": "error",
     "traceback": [
      "\u001b[0;31m---------------------------------------------------------------------------\u001b[0m",
      "\u001b[0;31mTypeError\u001b[0m                                 Traceback (most recent call last)",
      "Cell \u001b[0;32mIn[137], line 1\u001b[0m\n\u001b[0;32m----> 1\u001b[0m \u001b[38;5;124;43m\"\u001b[39;49m\u001b[38;5;124;43mthomas\u001b[39;49m\u001b[38;5;124;43m\"\u001b[39;49m\u001b[43m \u001b[49m\u001b[38;5;241;43m/\u001b[39;49m\u001b[43m \u001b[49m\u001b[38;5;241;43m4\u001b[39;49m\n",
      "\u001b[0;31mTypeError\u001b[0m: unsupported operand type(s) for /: 'str' and 'int'"
     ]
    }
   ],
   "source": [
    "\"thomas\" / 4"
   ]
  },
  {
   "cell_type": "code",
   "execution_count": 138,
   "id": "77086905-8833-4383-a004-308c77acdb11",
   "metadata": {},
   "outputs": [
    {
     "ename": "SyntaxError",
     "evalue": "unterminated string literal (detected at line 1) (2453006833.py, line 1)",
     "output_type": "error",
     "traceback": [
      "\u001b[0;36m  Cell \u001b[0;32mIn[138], line 1\u001b[0;36m\u001b[0m\n\u001b[0;31m    'Don't do copy and paste'\u001b[0m\n\u001b[0m                            ^\u001b[0m\n\u001b[0;31mSyntaxError\u001b[0m\u001b[0;31m:\u001b[0m unterminated string literal (detected at line 1)\n"
     ]
    }
   ],
   "source": [
    "'Don't do copy and paste'"
   ]
  },
  {
   "cell_type": "code",
   "execution_count": 139,
   "id": "59139d4b-2321-405f-9d33-6907184027a5",
   "metadata": {},
   "outputs": [
    {
     "data": {
      "text/plain": [
       "\"Don't do copy and paste\""
      ]
     },
     "execution_count": 139,
     "metadata": {},
     "output_type": "execute_result"
    }
   ],
   "source": [
    "\"Don't do copy and paste\""
   ]
  },
  {
   "cell_type": "code",
   "execution_count": 140,
   "id": "aed8fcd4-fd01-4221-a3b0-67667e5ead90",
   "metadata": {},
   "outputs": [
    {
     "ename": "SyntaxError",
     "evalue": "unterminated string literal (detected at line 1) (2091678967.py, line 1)",
     "output_type": "error",
     "traceback": [
      "\u001b[0;36m  Cell \u001b[0;32mIn[140], line 1\u001b[0;36m\u001b[0m\n\u001b[0;31m    \"Don\"t do copy and paste\"\u001b[0m\n\u001b[0m                            ^\u001b[0m\n\u001b[0;31mSyntaxError\u001b[0m\u001b[0;31m:\u001b[0m unterminated string literal (detected at line 1)\n"
     ]
    }
   ],
   "source": [
    "\"Don\"t do copy and paste\""
   ]
  },
  {
   "cell_type": "code",
   "execution_count": 141,
   "id": "08b4d4be-663f-42bf-98d2-d73d94a45ed3",
   "metadata": {},
   "outputs": [
    {
     "data": {
      "text/plain": [
       "'Don\"t do copy and paste'"
      ]
     },
     "execution_count": 141,
     "metadata": {},
     "output_type": "execute_result"
    }
   ],
   "source": [
    "'Don\"t do copy and paste'"
   ]
  },
  {
   "cell_type": "code",
   "execution_count": 142,
   "id": "d6002d17-fbde-44b1-b76e-54f9f91c6113",
   "metadata": {},
   "outputs": [
    {
     "ename": "SyntaxError",
     "evalue": "invalid syntax (174716003.py, line 1)",
     "output_type": "error",
     "traceback": [
      "\u001b[0;36m  Cell \u001b[0;32mIn[142], line 1\u001b[0;36m\u001b[0m\n\u001b[0;31m    This is my first class of programmimg\u001b[0m\n\u001b[0m               ^\u001b[0m\n\u001b[0;31mSyntaxError\u001b[0m\u001b[0;31m:\u001b[0m invalid syntax\n"
     ]
    }
   ],
   "source": [
    "This is my first class of programmimg "
   ]
  },
  {
   "cell_type": "code",
   "execution_count": 144,
   "id": "5396e8f7-858d-4531-9c90-7a5f9f1a49e2",
   "metadata": {},
   "outputs": [],
   "source": [
    "# hash '#' is using for single line commands .\n",
    "#  Multiple line Commands we use ''' or \"\"\" ."
   ]
  },
  {
   "cell_type": "code",
   "execution_count": null,
   "id": "8599ebc0-9680-4ba2-8e2a-3c0b827ce720",
   "metadata": {},
   "outputs": [],
   "source": []
  }
 ],
 "metadata": {
  "kernelspec": {
   "display_name": "Python 3 (ipykernel)",
   "language": "python",
   "name": "python3"
  },
  "language_info": {
   "codemirror_mode": {
    "name": "ipython",
    "version": 3
   },
   "file_extension": ".py",
   "mimetype": "text/x-python",
   "name": "python",
   "nbconvert_exporter": "python",
   "pygments_lexer": "ipython3",
   "version": "3.10.8"
  }
 },
 "nbformat": 4,
 "nbformat_minor": 5
}
